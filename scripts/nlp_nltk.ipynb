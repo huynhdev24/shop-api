{
 "cells": [
  {
   "attachments": {},
   "cell_type": "markdown",
   "id": "ac20040c",
   "metadata": {},
   "source": [
    "Thêm thư viên Pandas để xử lý file CSV dưới dạng bảng"
   ]
  },
  {
   "cell_type": "code",
   "execution_count": 1,
   "id": "74356513",
   "metadata": {
    "execution": {
     "iopub.execute_input": "2023-01-16T18:00:53.131540Z",
     "iopub.status.busy": "2023-01-16T18:00:53.130913Z",
     "iopub.status.idle": "2023-01-16T18:00:53.143048Z",
     "shell.execute_reply": "2023-01-16T18:00:53.142182Z"
    },
    "papermill": {
     "duration": 0.031126,
     "end_time": "2023-01-16T18:00:53.145299",
     "exception": false,
     "start_time": "2023-01-16T18:00:53.114173",
     "status": "completed"
    },
    "tags": []
   },
   "outputs": [],
   "source": [
    "import pandas as pd"
   ]
  },
  {
   "attachments": {},
   "cell_type": "markdown",
   "id": "dd9dea04",
   "metadata": {},
   "source": [
    "Đọc file Dataset CSV"
   ]
  },
  {
   "cell_type": "code",
   "execution_count": 2,
   "id": "3f628268",
   "metadata": {
    "execution": {
     "iopub.execute_input": "2023-01-16T18:00:53.176000Z",
     "iopub.status.busy": "2023-01-16T18:00:53.174922Z",
     "iopub.status.idle": "2023-01-16T18:00:53.200169Z",
     "shell.execute_reply": "2023-01-16T18:00:53.199337Z"
    },
    "papermill": {
     "duration": 0.044066,
     "end_time": "2023-01-16T18:00:53.202711",
     "exception": false,
     "start_time": "2023-01-16T18:00:53.158645",
     "status": "completed"
    },
    "tags": []
   },
   "outputs": [],
   "source": [
    "data = pd.read_csv('C:/shop/shop-api/data/bookstore/books.csv')"
   ]
  },
  {
   "attachments": {},
   "cell_type": "markdown",
   "id": "e235b369",
   "metadata": {},
   "source": [
    "Lấy ra 5 record đầu tiên của file books.csv"
   ]
  },
  {
   "cell_type": "code",
   "execution_count": 3,
   "id": "af3fc912",
   "metadata": {
    "execution": {
     "iopub.execute_input": "2023-01-16T18:00:53.230933Z",
     "iopub.status.busy": "2023-01-16T18:00:53.230513Z",
     "iopub.status.idle": "2023-01-16T18:00:53.249566Z",
     "shell.execute_reply": "2023-01-16T18:00:53.248538Z"
    },
    "papermill": {
     "duration": 0.03596,
     "end_time": "2023-01-16T18:00:53.251887",
     "exception": false,
     "start_time": "2023-01-16T18:00:53.215927",
     "status": "completed"
    },
    "tags": []
   },
   "outputs": [
    {
     "data": {
      "text/html": [
       "<div>\n",
       "<style scoped>\n",
       "    .dataframe tbody tr th:only-of-type {\n",
       "        vertical-align: middle;\n",
       "    }\n",
       "\n",
       "    .dataframe tbody tr th {\n",
       "        vertical-align: top;\n",
       "    }\n",
       "\n",
       "    .dataframe thead th {\n",
       "        text-align: right;\n",
       "    }\n",
       "</style>\n",
       "<table border=\"1\" class=\"dataframe\">\n",
       "  <thead>\n",
       "    <tr style=\"text-align: right;\">\n",
       "      <th></th>\n",
       "      <th>_id</th>\n",
       "      <th>bookId</th>\n",
       "      <th>name</th>\n",
       "      <th>year</th>\n",
       "      <th>price</th>\n",
       "      <th>pages</th>\n",
       "      <th>genre</th>\n",
       "      <th>author</th>\n",
       "      <th>publisher</th>\n",
       "      <th>slug</th>\n",
       "      <th>size</th>\n",
       "      <th>description</th>\n",
       "      <th>discount</th>\n",
       "      <th>imageUrl</th>\n",
       "      <th>publicId</th>\n",
       "    </tr>\n",
       "  </thead>\n",
       "  <tbody>\n",
       "    <tr>\n",
       "      <th>0</th>\n",
       "      <td>63dba6b692acc30d32a5eaab</td>\n",
       "      <td>11110030</td>\n",
       "      <td>Đàn Ông Sao Hỏa Đàn Bà Sao Kim</td>\n",
       "      <td>2019</td>\n",
       "      <td>150000</td>\n",
       "      <td>488</td>\n",
       "      <td>NaN</td>\n",
       "      <td>NaN</td>\n",
       "      <td>NaN</td>\n",
       "      <td>dan-ong-sao-h-a-dan-ba-sao-kim</td>\n",
       "      <td>14.5 x 20.5</td>\n",
       "      <td>&lt;p&gt;&lt;strong&gt;Người ta thường nói rằng đàn ông và...</td>\n",
       "      <td>10.0</td>\n",
       "      <td>https://res.cloudinary.com/dbynglvwk/image/upl...</td>\n",
       "      <td>bookstore/aphumtqkibcbepdmwvtc</td>\n",
       "    </tr>\n",
       "    <tr>\n",
       "      <th>1</th>\n",
       "      <td>64181b70929948a83fd2510e</td>\n",
       "      <td>11110070</td>\n",
       "      <td>Tin Học 10 (2021)</td>\n",
       "      <td>2021</td>\n",
       "      <td>5000</td>\n",
       "      <td>280</td>\n",
       "      <td>NaN</td>\n",
       "      <td>NaN</td>\n",
       "      <td>NaN</td>\n",
       "      <td>tin-hoc-10</td>\n",
       "      <td>17 x 24 cm</td>\n",
       "      <td>&lt;p&gt;Sách giáo khoa &lt;strong&gt;Tin Học lớp 10 &lt;/str...</td>\n",
       "      <td>NaN</td>\n",
       "      <td>https://res.cloudinary.com/dbynglvwk/image/upl...</td>\n",
       "      <td>bookstore/a7ltltre5vgpe7r1ak91</td>\n",
       "    </tr>\n",
       "    <tr>\n",
       "      <th>2</th>\n",
       "      <td>64181bc3929948a83fd2510f</td>\n",
       "      <td>11110071</td>\n",
       "      <td>Sinh Học 7 (2021)</td>\n",
       "      <td>2021</td>\n",
       "      <td>8500</td>\n",
       "      <td>280</td>\n",
       "      <td>NaN</td>\n",
       "      <td>NaN</td>\n",
       "      <td>NaN</td>\n",
       "      <td>sinh-hoc-7</td>\n",
       "      <td>17 x 24 cm</td>\n",
       "      <td>Sách giáo khoa Sinh Học lớp 7 (Tái bản 2021)</td>\n",
       "      <td>2.0</td>\n",
       "      <td>https://res.cloudinary.com/dbynglvwk/image/upl...</td>\n",
       "      <td>bookstore/ivyh5pv8b50uqqolmwyj</td>\n",
       "    </tr>\n",
       "    <tr>\n",
       "      <th>3</th>\n",
       "      <td>64181be7929948a83fd25110</td>\n",
       "      <td>11110072</td>\n",
       "      <td>Lịch Sử 7 (2021)</td>\n",
       "      <td>2021</td>\n",
       "      <td>6000</td>\n",
       "      <td>280</td>\n",
       "      <td>NaN</td>\n",
       "      <td>NaN</td>\n",
       "      <td>NaN</td>\n",
       "      <td>lich-su-7</td>\n",
       "      <td>17 x 24 cm</td>\n",
       "      <td>Sách giáo khoa Lịch Sử lớp 7 (Tái bản 2021)</td>\n",
       "      <td>20.0</td>\n",
       "      <td>https://res.cloudinary.com/dbynglvwk/image/upl...</td>\n",
       "      <td>bookstore/hpfjebw8i5cygplpl5zi</td>\n",
       "    </tr>\n",
       "    <tr>\n",
       "      <th>4</th>\n",
       "      <td>64181c0c929948a83fd25111</td>\n",
       "      <td>11110022</td>\n",
       "      <td>Tiếng Anh 10 (2021)</td>\n",
       "      <td>2021</td>\n",
       "      <td>14250</td>\n",
       "      <td>280</td>\n",
       "      <td>NaN</td>\n",
       "      <td>NaN</td>\n",
       "      <td>NaN</td>\n",
       "      <td>tieng-anh-10</td>\n",
       "      <td>17 x 24 cm</td>\n",
       "      <td>Sách giáo khoa Tiếng Anh lớp 10 (Tái bản 2021)</td>\n",
       "      <td>NaN</td>\n",
       "      <td>https://res.cloudinary.com/dbynglvwk/image/upl...</td>\n",
       "      <td>bookstore/zwp8wn3os3tmzmicy8sj</td>\n",
       "    </tr>\n",
       "  </tbody>\n",
       "</table>\n",
       "</div>"
      ],
      "text/plain": [
       "                        _id    bookId                            name  year   \n",
       "0  63dba6b692acc30d32a5eaab  11110030  Đàn Ông Sao Hỏa Đàn Bà Sao Kim  2019  \\\n",
       "1  64181b70929948a83fd2510e  11110070               Tin Học 10 (2021)  2021   \n",
       "2  64181bc3929948a83fd2510f  11110071               Sinh Học 7 (2021)  2021   \n",
       "3  64181be7929948a83fd25110  11110072                Lịch Sử 7 (2021)  2021   \n",
       "4  64181c0c929948a83fd25111  11110022             Tiếng Anh 10 (2021)  2021   \n",
       "\n",
       "    price  pages genre author publisher                            slug   \n",
       "0  150000    488   NaN    NaN       NaN  dan-ong-sao-h-a-dan-ba-sao-kim  \\\n",
       "1    5000    280   NaN    NaN       NaN                      tin-hoc-10   \n",
       "2    8500    280   NaN    NaN       NaN                      sinh-hoc-7   \n",
       "3    6000    280   NaN    NaN       NaN                       lich-su-7   \n",
       "4   14250    280   NaN    NaN       NaN                    tieng-anh-10   \n",
       "\n",
       "          size                                        description  discount   \n",
       "0  14.5 x 20.5  <p><strong>Người ta thường nói rằng đàn ông và...      10.0  \\\n",
       "1   17 x 24 cm  <p>Sách giáo khoa <strong>Tin Học lớp 10 </str...       NaN   \n",
       "2   17 x 24 cm       Sách giáo khoa Sinh Học lớp 7 (Tái bản 2021)       2.0   \n",
       "3   17 x 24 cm        Sách giáo khoa Lịch Sử lớp 7 (Tái bản 2021)      20.0   \n",
       "4   17 x 24 cm     Sách giáo khoa Tiếng Anh lớp 10 (Tái bản 2021)       NaN   \n",
       "\n",
       "                                            imageUrl   \n",
       "0  https://res.cloudinary.com/dbynglvwk/image/upl...  \\\n",
       "1  https://res.cloudinary.com/dbynglvwk/image/upl...   \n",
       "2  https://res.cloudinary.com/dbynglvwk/image/upl...   \n",
       "3  https://res.cloudinary.com/dbynglvwk/image/upl...   \n",
       "4  https://res.cloudinary.com/dbynglvwk/image/upl...   \n",
       "\n",
       "                         publicId  \n",
       "0  bookstore/aphumtqkibcbepdmwvtc  \n",
       "1  bookstore/a7ltltre5vgpe7r1ak91  \n",
       "2  bookstore/ivyh5pv8b50uqqolmwyj  \n",
       "3  bookstore/hpfjebw8i5cygplpl5zi  \n",
       "4  bookstore/zwp8wn3os3tmzmicy8sj  "
      ]
     },
     "execution_count": 3,
     "metadata": {},
     "output_type": "execute_result"
    }
   ],
   "source": [
    "data.head(5)"
   ]
  },
  {
   "attachments": {},
   "cell_type": "markdown",
   "id": "a06f1ace",
   "metadata": {},
   "source": [
    "Tạo 1 cột mới có tên là description_name dựa trên thông tin của cột description (mô tả sách) + thông tin cột name (tên sách)"
   ]
  },
  {
   "cell_type": "code",
   "execution_count": 4,
   "id": "0cdf5258",
   "metadata": {
    "execution": {
     "iopub.execute_input": "2023-01-16T18:00:53.280183Z",
     "iopub.status.busy": "2023-01-16T18:00:53.279787Z",
     "iopub.status.idle": "2023-01-16T18:00:53.288702Z",
     "shell.execute_reply": "2023-01-16T18:00:53.287620Z"
    },
    "papermill": {
     "duration": 0.025751,
     "end_time": "2023-01-16T18:00:53.290925",
     "exception": false,
     "start_time": "2023-01-16T18:00:53.265174",
     "status": "completed"
    },
    "tags": []
   },
   "outputs": [],
   "source": [
    "data['description_name'] = data['description'] + \" \" + data['name']"
   ]
  },
  {
   "attachments": {},
   "cell_type": "markdown",
   "id": "3432b5db",
   "metadata": {},
   "source": [
    "Xem nội dung cột mới tạo description_name"
   ]
  },
  {
   "cell_type": "code",
   "execution_count": 5,
   "id": "31bcb16d",
   "metadata": {
    "execution": {
     "iopub.execute_input": "2023-01-16T18:00:53.319238Z",
     "iopub.status.busy": "2023-01-16T18:00:53.318845Z",
     "iopub.status.idle": "2023-01-16T18:00:53.326574Z",
     "shell.execute_reply": "2023-01-16T18:00:53.325809Z"
    },
    "papermill": {
     "duration": 0.024293,
     "end_time": "2023-01-16T18:00:53.328560",
     "exception": false,
     "start_time": "2023-01-16T18:00:53.304267",
     "status": "completed"
    },
    "tags": []
   },
   "outputs": [
    {
     "name": "stdout",
     "output_type": "stream",
     "text": [
      "0      <p><strong>Người ta thường nói rằng đàn ông và...\n",
      "1      <p>Sách giáo khoa <strong>Tin Học lớp 10 </str...\n",
      "2      Sách giáo khoa Sinh Học lớp 7 (Tái bản 2021) S...\n",
      "3      Sách giáo khoa Lịch Sử lớp 7 (Tái bản 2021) Lị...\n",
      "4      Sách giáo khoa Tiếng Anh lớp 10 (Tái bản 2021)...\n",
      "                             ...                        \n",
      "98                                        Hay Life of Pi\n",
      "99                               Hay Water for Elephants\n",
      "100                                   Hay The Book Thief\n",
      "101                                   Hay Fahrenheit 451\n",
      "102                          Hay New Moon (Twilight, #2)\n",
      "Name: description_name, Length: 103, dtype: object\n"
     ]
    }
   ],
   "source": [
    "print(data['description_name'])"
   ]
  },
  {
   "attachments": {},
   "cell_type": "markdown",
   "id": "e907becc",
   "metadata": {},
   "source": [
    "Xóa bỏ 2 cột không cần dùng đến description và name nữa vì đã có description_name"
   ]
  },
  {
   "cell_type": "code",
   "execution_count": 6,
   "id": "0d2bda00",
   "metadata": {
    "execution": {
     "iopub.execute_input": "2023-01-16T18:00:53.357620Z",
     "iopub.status.busy": "2023-01-16T18:00:53.356816Z",
     "iopub.status.idle": "2023-01-16T18:00:53.367746Z",
     "shell.execute_reply": "2023-01-16T18:00:53.366638Z"
    },
    "papermill": {
     "duration": 0.028331,
     "end_time": "2023-01-16T18:00:53.370344",
     "exception": false,
     "start_time": "2023-01-16T18:00:53.342013",
     "status": "completed"
    },
    "tags": []
   },
   "outputs": [],
   "source": [
    "data.drop(columns = ['description', 'name'], axis = 1, inplace = True)"
   ]
  },
  {
   "attachments": {},
   "cell_type": "markdown",
   "id": "e2630b09",
   "metadata": {},
   "source": [
    "xem thông tin của Dataframe"
   ]
  },
  {
   "cell_type": "code",
   "execution_count": 7,
   "id": "358be47b",
   "metadata": {
    "execution": {
     "iopub.execute_input": "2023-01-16T18:00:53.399591Z",
     "iopub.status.busy": "2023-01-16T18:00:53.398775Z",
     "iopub.status.idle": "2023-01-16T18:00:53.415008Z",
     "shell.execute_reply": "2023-01-16T18:00:53.413790Z"
    },
    "papermill": {
     "duration": 0.033427,
     "end_time": "2023-01-16T18:00:53.417284",
     "exception": false,
     "start_time": "2023-01-16T18:00:53.383857",
     "status": "completed"
    },
    "tags": []
   },
   "outputs": [
    {
     "name": "stdout",
     "output_type": "stream",
     "text": [
      "<class 'pandas.core.frame.DataFrame'>\n",
      "RangeIndex: 103 entries, 0 to 102\n",
      "Data columns (total 14 columns):\n",
      " #   Column            Non-Null Count  Dtype  \n",
      "---  ------            --------------  -----  \n",
      " 0   _id               103 non-null    object \n",
      " 1   bookId            103 non-null    int64  \n",
      " 2   year              103 non-null    int64  \n",
      " 3   price             103 non-null    int64  \n",
      " 4   pages             103 non-null    int64  \n",
      " 5   genre             76 non-null     object \n",
      " 6   author            76 non-null     object \n",
      " 7   publisher         76 non-null     object \n",
      " 8   slug              103 non-null    object \n",
      " 9   size              102 non-null    object \n",
      " 10  discount          89 non-null     float64\n",
      " 11  imageUrl          103 non-null    object \n",
      " 12  publicId          27 non-null     object \n",
      " 13  description_name  103 non-null    object \n",
      "dtypes: float64(1), int64(4), object(9)\n",
      "memory usage: 11.4+ KB\n"
     ]
    }
   ],
   "source": [
    "data.info()"
   ]
  },
  {
   "attachments": {},
   "cell_type": "markdown",
   "id": "90e194d1",
   "metadata": {},
   "source": [
    "tính tổng số data chứa NaN - thông tin bỏ trống"
   ]
  },
  {
   "cell_type": "code",
   "execution_count": 8,
   "id": "482c6596",
   "metadata": {
    "execution": {
     "iopub.execute_input": "2023-01-16T18:00:53.446439Z",
     "iopub.status.busy": "2023-01-16T18:00:53.445652Z",
     "iopub.status.idle": "2023-01-16T18:00:53.456262Z",
     "shell.execute_reply": "2023-01-16T18:00:53.455388Z"
    },
    "papermill": {
     "duration": 0.027774,
     "end_time": "2023-01-16T18:00:53.458556",
     "exception": false,
     "start_time": "2023-01-16T18:00:53.430782",
     "status": "completed"
    },
    "tags": []
   },
   "outputs": [
    {
     "data": {
      "text/plain": [
       "_id                  0\n",
       "bookId               0\n",
       "year                 0\n",
       "price                0\n",
       "pages                0\n",
       "genre               27\n",
       "author              27\n",
       "publisher           27\n",
       "slug                 0\n",
       "size                 1\n",
       "discount            14\n",
       "imageUrl             0\n",
       "publicId            76\n",
       "description_name     0\n",
       "dtype: int64"
      ]
     },
     "execution_count": 8,
     "metadata": {},
     "output_type": "execute_result"
    }
   ],
   "source": [
    "data.isna().sum()"
   ]
  },
  {
   "attachments": {},
   "cell_type": "markdown",
   "id": "97d16600",
   "metadata": {},
   "source": [
    "tính tổng số data chứa các thông tin trùng lắp"
   ]
  },
  {
   "cell_type": "code",
   "execution_count": 9,
   "id": "a858c1c2",
   "metadata": {
    "execution": {
     "iopub.execute_input": "2023-01-16T18:00:53.488185Z",
     "iopub.status.busy": "2023-01-16T18:00:53.487786Z",
     "iopub.status.idle": "2023-01-16T18:00:53.496056Z",
     "shell.execute_reply": "2023-01-16T18:00:53.494991Z"
    },
    "papermill": {
     "duration": 0.026072,
     "end_time": "2023-01-16T18:00:53.498343",
     "exception": false,
     "start_time": "2023-01-16T18:00:53.472271",
     "status": "completed"
    },
    "tags": []
   },
   "outputs": [
    {
     "data": {
      "text/plain": [
       "0"
      ]
     },
     "execution_count": 9,
     "metadata": {},
     "output_type": "execute_result"
    }
   ],
   "source": [
    "data.duplicated().sum()"
   ]
  },
  {
   "attachments": {},
   "cell_type": "markdown",
   "id": "856db2ba",
   "metadata": {},
   "source": [
    "loại bỏ data bị trùng lắp"
   ]
  },
  {
   "cell_type": "code",
   "execution_count": 10,
   "id": "c73aa541",
   "metadata": {
    "execution": {
     "iopub.execute_input": "2023-01-16T18:00:53.528095Z",
     "iopub.status.busy": "2023-01-16T18:00:53.527736Z",
     "iopub.status.idle": "2023-01-16T18:00:53.533794Z",
     "shell.execute_reply": "2023-01-16T18:00:53.532879Z"
    },
    "papermill": {
     "duration": 0.02329,
     "end_time": "2023-01-16T18:00:53.535968",
     "exception": false,
     "start_time": "2023-01-16T18:00:53.512678",
     "status": "completed"
    },
    "tags": []
   },
   "outputs": [],
   "source": [
    "data.drop_duplicates(inplace = True)"
   ]
  },
  {
   "attachments": {},
   "cell_type": "markdown",
   "id": "090cd833",
   "metadata": {},
   "source": [
    "reset lại index (chỉ mục) của đataframe"
   ]
  },
  {
   "cell_type": "code",
   "execution_count": 11,
   "id": "cd3642cd",
   "metadata": {
    "execution": {
     "iopub.execute_input": "2023-01-16T18:00:53.565748Z",
     "iopub.status.busy": "2023-01-16T18:00:53.565013Z",
     "iopub.status.idle": "2023-01-16T18:00:53.569703Z",
     "shell.execute_reply": "2023-01-16T18:00:53.568694Z"
    },
    "papermill": {
     "duration": 0.022028,
     "end_time": "2023-01-16T18:00:53.572011",
     "exception": false,
     "start_time": "2023-01-16T18:00:53.549983",
     "status": "completed"
    },
    "tags": []
   },
   "outputs": [],
   "source": [
    "data.reset_index(drop = True, inplace = True)"
   ]
  },
  {
   "attachments": {},
   "cell_type": "markdown",
   "id": "3ea5203f",
   "metadata": {},
   "source": [
    "Test xem thử lại data"
   ]
  },
  {
   "cell_type": "code",
   "execution_count": 12,
   "id": "154b179b",
   "metadata": {
    "execution": {
     "iopub.execute_input": "2023-01-16T18:00:53.601286Z",
     "iopub.status.busy": "2023-01-16T18:00:53.600421Z",
     "iopub.status.idle": "2023-01-16T18:00:53.612072Z",
     "shell.execute_reply": "2023-01-16T18:00:53.611083Z"
    },
    "papermill": {
     "duration": 0.028629,
     "end_time": "2023-01-16T18:00:53.614291",
     "exception": false,
     "start_time": "2023-01-16T18:00:53.585662",
     "status": "completed"
    },
    "tags": []
   },
   "outputs": [
    {
     "data": {
      "text/html": [
       "<div>\n",
       "<style scoped>\n",
       "    .dataframe tbody tr th:only-of-type {\n",
       "        vertical-align: middle;\n",
       "    }\n",
       "\n",
       "    .dataframe tbody tr th {\n",
       "        vertical-align: top;\n",
       "    }\n",
       "\n",
       "    .dataframe thead th {\n",
       "        text-align: right;\n",
       "    }\n",
       "</style>\n",
       "<table border=\"1\" class=\"dataframe\">\n",
       "  <thead>\n",
       "    <tr style=\"text-align: right;\">\n",
       "      <th></th>\n",
       "      <th>_id</th>\n",
       "      <th>bookId</th>\n",
       "      <th>year</th>\n",
       "      <th>price</th>\n",
       "      <th>pages</th>\n",
       "      <th>genre</th>\n",
       "      <th>author</th>\n",
       "      <th>publisher</th>\n",
       "      <th>slug</th>\n",
       "      <th>size</th>\n",
       "      <th>discount</th>\n",
       "      <th>imageUrl</th>\n",
       "      <th>publicId</th>\n",
       "      <th>description_name</th>\n",
       "    </tr>\n",
       "  </thead>\n",
       "  <tbody>\n",
       "    <tr>\n",
       "      <th>0</th>\n",
       "      <td>63dba6b692acc30d32a5eaab</td>\n",
       "      <td>11110030</td>\n",
       "      <td>2019</td>\n",
       "      <td>150000</td>\n",
       "      <td>488</td>\n",
       "      <td>NaN</td>\n",
       "      <td>NaN</td>\n",
       "      <td>NaN</td>\n",
       "      <td>dan-ong-sao-h-a-dan-ba-sao-kim</td>\n",
       "      <td>14.5 x 20.5</td>\n",
       "      <td>10.0</td>\n",
       "      <td>https://res.cloudinary.com/dbynglvwk/image/upl...</td>\n",
       "      <td>bookstore/aphumtqkibcbepdmwvtc</td>\n",
       "      <td>&lt;p&gt;&lt;strong&gt;Người ta thường nói rằng đàn ông và...</td>\n",
       "    </tr>\n",
       "    <tr>\n",
       "      <th>1</th>\n",
       "      <td>64181b70929948a83fd2510e</td>\n",
       "      <td>11110070</td>\n",
       "      <td>2021</td>\n",
       "      <td>5000</td>\n",
       "      <td>280</td>\n",
       "      <td>NaN</td>\n",
       "      <td>NaN</td>\n",
       "      <td>NaN</td>\n",
       "      <td>tin-hoc-10</td>\n",
       "      <td>17 x 24 cm</td>\n",
       "      <td>NaN</td>\n",
       "      <td>https://res.cloudinary.com/dbynglvwk/image/upl...</td>\n",
       "      <td>bookstore/a7ltltre5vgpe7r1ak91</td>\n",
       "      <td>&lt;p&gt;Sách giáo khoa &lt;strong&gt;Tin Học lớp 10 &lt;/str...</td>\n",
       "    </tr>\n",
       "    <tr>\n",
       "      <th>2</th>\n",
       "      <td>64181bc3929948a83fd2510f</td>\n",
       "      <td>11110071</td>\n",
       "      <td>2021</td>\n",
       "      <td>8500</td>\n",
       "      <td>280</td>\n",
       "      <td>NaN</td>\n",
       "      <td>NaN</td>\n",
       "      <td>NaN</td>\n",
       "      <td>sinh-hoc-7</td>\n",
       "      <td>17 x 24 cm</td>\n",
       "      <td>2.0</td>\n",
       "      <td>https://res.cloudinary.com/dbynglvwk/image/upl...</td>\n",
       "      <td>bookstore/ivyh5pv8b50uqqolmwyj</td>\n",
       "      <td>Sách giáo khoa Sinh Học lớp 7 (Tái bản 2021) S...</td>\n",
       "    </tr>\n",
       "    <tr>\n",
       "      <th>3</th>\n",
       "      <td>64181be7929948a83fd25110</td>\n",
       "      <td>11110072</td>\n",
       "      <td>2021</td>\n",
       "      <td>6000</td>\n",
       "      <td>280</td>\n",
       "      <td>NaN</td>\n",
       "      <td>NaN</td>\n",
       "      <td>NaN</td>\n",
       "      <td>lich-su-7</td>\n",
       "      <td>17 x 24 cm</td>\n",
       "      <td>20.0</td>\n",
       "      <td>https://res.cloudinary.com/dbynglvwk/image/upl...</td>\n",
       "      <td>bookstore/hpfjebw8i5cygplpl5zi</td>\n",
       "      <td>Sách giáo khoa Lịch Sử lớp 7 (Tái bản 2021) Lị...</td>\n",
       "    </tr>\n",
       "    <tr>\n",
       "      <th>4</th>\n",
       "      <td>64181c0c929948a83fd25111</td>\n",
       "      <td>11110022</td>\n",
       "      <td>2021</td>\n",
       "      <td>14250</td>\n",
       "      <td>280</td>\n",
       "      <td>NaN</td>\n",
       "      <td>NaN</td>\n",
       "      <td>NaN</td>\n",
       "      <td>tieng-anh-10</td>\n",
       "      <td>17 x 24 cm</td>\n",
       "      <td>NaN</td>\n",
       "      <td>https://res.cloudinary.com/dbynglvwk/image/upl...</td>\n",
       "      <td>bookstore/zwp8wn3os3tmzmicy8sj</td>\n",
       "      <td>Sách giáo khoa Tiếng Anh lớp 10 (Tái bản 2021)...</td>\n",
       "    </tr>\n",
       "    <tr>\n",
       "      <th>...</th>\n",
       "      <td>...</td>\n",
       "      <td>...</td>\n",
       "      <td>...</td>\n",
       "      <td>...</td>\n",
       "      <td>...</td>\n",
       "      <td>...</td>\n",
       "      <td>...</td>\n",
       "      <td>...</td>\n",
       "      <td>...</td>\n",
       "      <td>...</td>\n",
       "      <td>...</td>\n",
       "      <td>...</td>\n",
       "      <td>...</td>\n",
       "      <td>...</td>\n",
       "    </tr>\n",
       "    <tr>\n",
       "      <th>98</th>\n",
       "      <td>64708a5f3cd4c49d331d7142</td>\n",
       "      <td>11118044</td>\n",
       "      <td>2001</td>\n",
       "      <td>120000</td>\n",
       "      <td>241</td>\n",
       "      <td>[\"627755097241ae166e05fb0e\"]</td>\n",
       "      <td>[\"62957e7dd4da46ee1fe05030\"]</td>\n",
       "      <td>6291e7574d457e5132f5d95a</td>\n",
       "      <td>life-of-pi</td>\n",
       "      <td>14 x 15</td>\n",
       "      <td>10.0</td>\n",
       "      <td>https://images.gr-assets.com/books/1320562005m...</td>\n",
       "      <td>NaN</td>\n",
       "      <td>Hay Life of Pi</td>\n",
       "    </tr>\n",
       "    <tr>\n",
       "      <th>99</th>\n",
       "      <td>64708a5f3cd4c49d331d7143</td>\n",
       "      <td>11118045</td>\n",
       "      <td>2006</td>\n",
       "      <td>120000</td>\n",
       "      <td>242</td>\n",
       "      <td>[\"627755097241ae166e05fb0e\"]</td>\n",
       "      <td>[\"62957e7dd4da46ee1fe05031\"]</td>\n",
       "      <td>6291e7574d457e5132f5d95a</td>\n",
       "      <td>water-for-elephants</td>\n",
       "      <td>14 x 15</td>\n",
       "      <td>10.0</td>\n",
       "      <td>https://images.gr-assets.com/books/1494428973m...</td>\n",
       "      <td>NaN</td>\n",
       "      <td>Hay Water for Elephants</td>\n",
       "    </tr>\n",
       "    <tr>\n",
       "      <th>100</th>\n",
       "      <td>64708a5f3cd4c49d331d7144</td>\n",
       "      <td>11118046</td>\n",
       "      <td>2005</td>\n",
       "      <td>120000</td>\n",
       "      <td>243</td>\n",
       "      <td>[\"627755097241ae166e05fb0e\"]</td>\n",
       "      <td>[\"62957e7dd4da46ee1fe05032\"]</td>\n",
       "      <td>6291e7574d457e5132f5d95a</td>\n",
       "      <td>the-book-thief</td>\n",
       "      <td>14 x 15</td>\n",
       "      <td>10.0</td>\n",
       "      <td>https://images.gr-assets.com/books/1390053681m...</td>\n",
       "      <td>NaN</td>\n",
       "      <td>Hay The Book Thief</td>\n",
       "    </tr>\n",
       "    <tr>\n",
       "      <th>101</th>\n",
       "      <td>64708a5f3cd4c49d331d7145</td>\n",
       "      <td>11118047</td>\n",
       "      <td>1953</td>\n",
       "      <td>120000</td>\n",
       "      <td>244</td>\n",
       "      <td>[\"627755097241ae166e05fb0e\"]</td>\n",
       "      <td>[\"62957e7dd4da46ee1fe05033\"]</td>\n",
       "      <td>6291e7574d457e5132f5d95a</td>\n",
       "      <td>fahrenheit-451</td>\n",
       "      <td>14 x 15</td>\n",
       "      <td>10.0</td>\n",
       "      <td>https://images.gr-assets.com/books/1351643740m...</td>\n",
       "      <td>NaN</td>\n",
       "      <td>Hay Fahrenheit 451</td>\n",
       "    </tr>\n",
       "    <tr>\n",
       "      <th>102</th>\n",
       "      <td>64708a5f3cd4c49d331d7146</td>\n",
       "      <td>11118048</td>\n",
       "      <td>2006</td>\n",
       "      <td>120000</td>\n",
       "      <td>245</td>\n",
       "      <td>[\"627755097241ae166e05fb0e\"]</td>\n",
       "      <td>[\"62957e7dd4da46ee1fe05034\"]</td>\n",
       "      <td>6291e7574d457e5132f5d95a</td>\n",
       "      <td>new-moon-twilight-2</td>\n",
       "      <td>14 x 15</td>\n",
       "      <td>10.0</td>\n",
       "      <td>https://images.gr-assets.com/books/1361039440m...</td>\n",
       "      <td>NaN</td>\n",
       "      <td>Hay New Moon (Twilight, #2)</td>\n",
       "    </tr>\n",
       "  </tbody>\n",
       "</table>\n",
       "<p>103 rows × 14 columns</p>\n",
       "</div>"
      ],
      "text/plain": [
       "                          _id    bookId  year   price  pages   \n",
       "0    63dba6b692acc30d32a5eaab  11110030  2019  150000    488  \\\n",
       "1    64181b70929948a83fd2510e  11110070  2021    5000    280   \n",
       "2    64181bc3929948a83fd2510f  11110071  2021    8500    280   \n",
       "3    64181be7929948a83fd25110  11110072  2021    6000    280   \n",
       "4    64181c0c929948a83fd25111  11110022  2021   14250    280   \n",
       "..                        ...       ...   ...     ...    ...   \n",
       "98   64708a5f3cd4c49d331d7142  11118044  2001  120000    241   \n",
       "99   64708a5f3cd4c49d331d7143  11118045  2006  120000    242   \n",
       "100  64708a5f3cd4c49d331d7144  11118046  2005  120000    243   \n",
       "101  64708a5f3cd4c49d331d7145  11118047  1953  120000    244   \n",
       "102  64708a5f3cd4c49d331d7146  11118048  2006  120000    245   \n",
       "\n",
       "                            genre                        author   \n",
       "0                             NaN                           NaN  \\\n",
       "1                             NaN                           NaN   \n",
       "2                             NaN                           NaN   \n",
       "3                             NaN                           NaN   \n",
       "4                             NaN                           NaN   \n",
       "..                            ...                           ...   \n",
       "98   [\"627755097241ae166e05fb0e\"]  [\"62957e7dd4da46ee1fe05030\"]   \n",
       "99   [\"627755097241ae166e05fb0e\"]  [\"62957e7dd4da46ee1fe05031\"]   \n",
       "100  [\"627755097241ae166e05fb0e\"]  [\"62957e7dd4da46ee1fe05032\"]   \n",
       "101  [\"627755097241ae166e05fb0e\"]  [\"62957e7dd4da46ee1fe05033\"]   \n",
       "102  [\"627755097241ae166e05fb0e\"]  [\"62957e7dd4da46ee1fe05034\"]   \n",
       "\n",
       "                    publisher                            slug         size   \n",
       "0                         NaN  dan-ong-sao-h-a-dan-ba-sao-kim  14.5 x 20.5  \\\n",
       "1                         NaN                      tin-hoc-10   17 x 24 cm   \n",
       "2                         NaN                      sinh-hoc-7   17 x 24 cm   \n",
       "3                         NaN                       lich-su-7   17 x 24 cm   \n",
       "4                         NaN                    tieng-anh-10   17 x 24 cm   \n",
       "..                        ...                             ...          ...   \n",
       "98   6291e7574d457e5132f5d95a                      life-of-pi      14 x 15   \n",
       "99   6291e7574d457e5132f5d95a             water-for-elephants      14 x 15   \n",
       "100  6291e7574d457e5132f5d95a                  the-book-thief      14 x 15   \n",
       "101  6291e7574d457e5132f5d95a                  fahrenheit-451      14 x 15   \n",
       "102  6291e7574d457e5132f5d95a             new-moon-twilight-2      14 x 15   \n",
       "\n",
       "     discount                                           imageUrl   \n",
       "0        10.0  https://res.cloudinary.com/dbynglvwk/image/upl...  \\\n",
       "1         NaN  https://res.cloudinary.com/dbynglvwk/image/upl...   \n",
       "2         2.0  https://res.cloudinary.com/dbynglvwk/image/upl...   \n",
       "3        20.0  https://res.cloudinary.com/dbynglvwk/image/upl...   \n",
       "4         NaN  https://res.cloudinary.com/dbynglvwk/image/upl...   \n",
       "..        ...                                                ...   \n",
       "98       10.0  https://images.gr-assets.com/books/1320562005m...   \n",
       "99       10.0  https://images.gr-assets.com/books/1494428973m...   \n",
       "100      10.0  https://images.gr-assets.com/books/1390053681m...   \n",
       "101      10.0  https://images.gr-assets.com/books/1351643740m...   \n",
       "102      10.0  https://images.gr-assets.com/books/1361039440m...   \n",
       "\n",
       "                           publicId   \n",
       "0    bookstore/aphumtqkibcbepdmwvtc  \\\n",
       "1    bookstore/a7ltltre5vgpe7r1ak91   \n",
       "2    bookstore/ivyh5pv8b50uqqolmwyj   \n",
       "3    bookstore/hpfjebw8i5cygplpl5zi   \n",
       "4    bookstore/zwp8wn3os3tmzmicy8sj   \n",
       "..                              ...   \n",
       "98                              NaN   \n",
       "99                              NaN   \n",
       "100                             NaN   \n",
       "101                             NaN   \n",
       "102                             NaN   \n",
       "\n",
       "                                      description_name  \n",
       "0    <p><strong>Người ta thường nói rằng đàn ông và...  \n",
       "1    <p>Sách giáo khoa <strong>Tin Học lớp 10 </str...  \n",
       "2    Sách giáo khoa Sinh Học lớp 7 (Tái bản 2021) S...  \n",
       "3    Sách giáo khoa Lịch Sử lớp 7 (Tái bản 2021) Lị...  \n",
       "4    Sách giáo khoa Tiếng Anh lớp 10 (Tái bản 2021)...  \n",
       "..                                                 ...  \n",
       "98                                      Hay Life of Pi  \n",
       "99                             Hay Water for Elephants  \n",
       "100                                 Hay The Book Thief  \n",
       "101                                 Hay Fahrenheit 451  \n",
       "102                        Hay New Moon (Twilight, #2)  \n",
       "\n",
       "[103 rows x 14 columns]"
      ]
     },
     "execution_count": 12,
     "metadata": {},
     "output_type": "execute_result"
    }
   ],
   "source": [
    "data"
   ]
  },
  {
   "attachments": {},
   "cell_type": "markdown",
   "id": "ecf38ca6",
   "metadata": {},
   "source": [
    "Xem thông tin của dataframe"
   ]
  },
  {
   "cell_type": "code",
   "execution_count": 13,
   "id": "7d9f4696",
   "metadata": {
    "execution": {
     "iopub.execute_input": "2023-01-16T18:00:53.643912Z",
     "iopub.status.busy": "2023-01-16T18:00:53.643552Z",
     "iopub.status.idle": "2023-01-16T18:00:53.654211Z",
     "shell.execute_reply": "2023-01-16T18:00:53.653045Z"
    },
    "papermill": {
     "duration": 0.028448,
     "end_time": "2023-01-16T18:00:53.656790",
     "exception": false,
     "start_time": "2023-01-16T18:00:53.628342",
     "status": "completed"
    },
    "tags": []
   },
   "outputs": [
    {
     "name": "stdout",
     "output_type": "stream",
     "text": [
      "<class 'pandas.core.frame.DataFrame'>\n",
      "RangeIndex: 103 entries, 0 to 102\n",
      "Data columns (total 14 columns):\n",
      " #   Column            Non-Null Count  Dtype  \n",
      "---  ------            --------------  -----  \n",
      " 0   _id               103 non-null    object \n",
      " 1   bookId            103 non-null    int64  \n",
      " 2   year              103 non-null    int64  \n",
      " 3   price             103 non-null    int64  \n",
      " 4   pages             103 non-null    int64  \n",
      " 5   genre             76 non-null     object \n",
      " 6   author            76 non-null     object \n",
      " 7   publisher         76 non-null     object \n",
      " 8   slug              103 non-null    object \n",
      " 9   size              102 non-null    object \n",
      " 10  discount          89 non-null     float64\n",
      " 11  imageUrl          103 non-null    object \n",
      " 12  publicId          27 non-null     object \n",
      " 13  description_name  103 non-null    object \n",
      "dtypes: float64(1), int64(4), object(9)\n",
      "memory usage: 11.4+ KB\n"
     ]
    }
   ],
   "source": [
    "data.info()"
   ]
  },
  {
   "attachments": {},
   "cell_type": "markdown",
   "id": "97442887",
   "metadata": {
    "papermill": {
     "duration": 0.013614,
     "end_time": "2023-01-16T18:00:53.684555",
     "exception": false,
     "start_time": "2023-01-16T18:00:53.670941",
     "status": "completed"
    },
    "tags": []
   },
   "source": [
    "__Pre processing__"
   ]
  },
  {
   "attachments": {},
   "cell_type": "markdown",
   "id": "e3cd42f6",
   "metadata": {},
   "source": [
    "thêm hàm của nltk để tiền xử lý ngôn ngữ"
   ]
  },
  {
   "cell_type": "code",
   "execution_count": 14,
   "id": "f71993eb",
   "metadata": {
    "execution": {
     "iopub.execute_input": "2023-01-16T18:00:53.714599Z",
     "iopub.status.busy": "2023-01-16T18:00:53.714160Z",
     "iopub.status.idle": "2023-01-16T18:00:55.312812Z",
     "shell.execute_reply": "2023-01-16T18:00:55.311712Z"
    },
    "papermill": {
     "duration": 1.616773,
     "end_time": "2023-01-16T18:00:55.315504",
     "exception": false,
     "start_time": "2023-01-16T18:00:53.698731",
     "status": "completed"
    },
    "tags": []
   },
   "outputs": [],
   "source": [
    "import re\n",
    "from nltk.corpus import stopwords\n",
    "from nltk.tokenize import word_tokenize\n",
    "from nltk.stem import PorterStemmer"
   ]
  },
  {
   "attachments": {},
   "cell_type": "markdown",
   "id": "e3a7bcda",
   "metadata": {},
   "source": [
    "download stopwords"
   ]
  },
  {
   "cell_type": "code",
   "execution_count": 15,
   "id": "9400ce88",
   "metadata": {
    "execution": {
     "iopub.execute_input": "2023-01-16T18:00:55.346035Z",
     "iopub.status.busy": "2023-01-16T18:00:55.345228Z",
     "iopub.status.idle": "2023-01-16T18:01:15.389090Z",
     "shell.execute_reply": "2023-01-16T18:01:15.387871Z"
    },
    "papermill": {
     "duration": 20.06185,
     "end_time": "2023-01-16T18:01:15.391503",
     "exception": false,
     "start_time": "2023-01-16T18:00:55.329653",
     "status": "completed"
    },
    "tags": []
   },
   "outputs": [
    {
     "name": "stderr",
     "output_type": "stream",
     "text": [
      "[nltk_data] Downloading package stopwords to\n",
      "[nltk_data]     C:\\Users\\pc\\AppData\\Roaming\\nltk_data...\n",
      "[nltk_data]   Package stopwords is already up-to-date!\n"
     ]
    },
    {
     "data": {
      "text/plain": [
       "True"
      ]
     },
     "execution_count": 15,
     "metadata": {},
     "output_type": "execute_result"
    }
   ],
   "source": [
    "import nltk\n",
    "nltk.download('stopwords')"
   ]
  },
  {
   "attachments": {},
   "cell_type": "markdown",
   "id": "da9f9e8d",
   "metadata": {},
   "source": [
    "chỉ định stopwords là tiếng Anh"
   ]
  },
  {
   "cell_type": "code",
   "execution_count": 16,
   "id": "87984499",
   "metadata": {
    "execution": {
     "iopub.execute_input": "2023-01-16T18:01:15.421273Z",
     "iopub.status.busy": "2023-01-16T18:01:15.420906Z",
     "iopub.status.idle": "2023-01-16T18:01:15.430016Z",
     "shell.execute_reply": "2023-01-16T18:01:15.428948Z"
    },
    "papermill": {
     "duration": 0.026701,
     "end_time": "2023-01-16T18:01:15.432223",
     "exception": false,
     "start_time": "2023-01-16T18:01:15.405522",
     "status": "completed"
    },
    "tags": []
   },
   "outputs": [],
   "source": [
    "en_stopwords = stopwords.words(\"english\")\n"
   ]
  },
  {
   "attachments": {},
   "cell_type": "markdown",
   "id": "f864ac3e",
   "metadata": {},
   "source": [
    "khởi tạo stemmer"
   ]
  },
  {
   "cell_type": "code",
   "execution_count": 17,
   "id": "c6270079",
   "metadata": {
    "execution": {
     "iopub.execute_input": "2023-01-16T18:01:15.462243Z",
     "iopub.status.busy": "2023-01-16T18:01:15.461878Z",
     "iopub.status.idle": "2023-01-16T18:01:15.465970Z",
     "shell.execute_reply": "2023-01-16T18:01:15.465159Z"
    },
    "papermill": {
     "duration": 0.021569,
     "end_time": "2023-01-16T18:01:15.468076",
     "exception": false,
     "start_time": "2023-01-16T18:01:15.446507",
     "status": "completed"
    },
    "tags": []
   },
   "outputs": [],
   "source": [
    "stemmer = PorterStemmer()"
   ]
  },
  {
   "attachments": {},
   "cell_type": "markdown",
   "id": "cacd88bf",
   "metadata": {},
   "source": [
    "xây dựng hàm clean cho đoan text - văn bản thô (data sẽ xử lý chính là data['description_name] cần xử lý)"
   ]
  },
  {
   "cell_type": "code",
   "execution_count": 18,
   "id": "ba79cbb0",
   "metadata": {
    "execution": {
     "iopub.execute_input": "2023-01-16T18:01:15.499849Z",
     "iopub.status.busy": "2023-01-16T18:01:15.499126Z",
     "iopub.status.idle": "2023-01-16T18:01:15.504542Z",
     "shell.execute_reply": "2023-01-16T18:01:15.503808Z"
    },
    "papermill": {
     "duration": 0.02367,
     "end_time": "2023-01-16T18:01:15.506553",
     "exception": false,
     "start_time": "2023-01-16T18:01:15.482883",
     "status": "completed"
    },
    "tags": []
   },
   "outputs": [],
   "source": [
    "def clean(text):\n",
    "    text = re.sub(\"[^A-Za-z1-9 ]\", \"\", text)\n",
    "    text = text.lower()\n",
    "    tokens = word_tokenize(text)\n",
    "    clean_list = []\n",
    "    for token in tokens:\n",
    "        if token not in en_stopwords:\n",
    "            clean_list.append(stemmer.stem(token))\n",
    "    return \" \".join(clean_list)"
   ]
  },
  {
   "attachments": {},
   "cell_type": "markdown",
   "id": "9abc6548",
   "metadata": {},
   "source": [
    "kiểm tra data"
   ]
  },
  {
   "cell_type": "code",
   "execution_count": 19,
   "id": "9d76f477",
   "metadata": {
    "execution": {
     "iopub.execute_input": "2023-01-16T18:01:15.536604Z",
     "iopub.status.busy": "2023-01-16T18:01:15.535914Z",
     "iopub.status.idle": "2023-01-16T18:01:15.540415Z",
     "shell.execute_reply": "2023-01-16T18:01:15.539683Z"
    },
    "papermill": {
     "duration": 0.021854,
     "end_time": "2023-01-16T18:01:15.542408",
     "exception": false,
     "start_time": "2023-01-16T18:01:15.520554",
     "status": "completed"
    },
    "tags": []
   },
   "outputs": [],
   "source": [
    "test = data.description_name.iloc[0]\n",
    "from nltk.stem import WordNetLemmatizer\n",
    "lemma = WordNetLemmatizer()"
   ]
  },
  {
   "attachments": {},
   "cell_type": "markdown",
   "id": "eadbfea0",
   "metadata": {},
   "source": [
    "xây dựng cleanlemma cho đoạn text cần kiểm tra tương tự clean"
   ]
  },
  {
   "cell_type": "code",
   "execution_count": 20,
   "id": "0e8102c4",
   "metadata": {
    "execution": {
     "iopub.execute_input": "2023-01-16T18:01:15.572502Z",
     "iopub.status.busy": "2023-01-16T18:01:15.571781Z",
     "iopub.status.idle": "2023-01-16T18:01:15.577220Z",
     "shell.execute_reply": "2023-01-16T18:01:15.576470Z"
    },
    "papermill": {
     "duration": 0.022807,
     "end_time": "2023-01-16T18:01:15.579286",
     "exception": false,
     "start_time": "2023-01-16T18:01:15.556479",
     "status": "completed"
    },
    "tags": []
   },
   "outputs": [],
   "source": [
    "def cleanlemma(text):\n",
    "    text = re.sub(\"[^A-Za-z1-9 ]\", \"\", text)\n",
    "    text = text.lower()\n",
    "    tokens = word_tokenize(text)\n",
    "    clean_list = []\n",
    "    for token in tokens:\n",
    "        if token not in en_stopwords:\n",
    "            clean_list.append(lemma.lemmatize(token))\n",
    "    return \" \".join(clean_list)"
   ]
  },
  {
   "attachments": {},
   "cell_type": "markdown",
   "id": "3817e4e2",
   "metadata": {},
   "source": [
    "kiểm tra 1 bản ghi bất kì trong data.description_name"
   ]
  },
  {
   "cell_type": "code",
   "execution_count": 21,
   "id": "0af58a80",
   "metadata": {
    "execution": {
     "iopub.execute_input": "2023-01-16T18:01:15.609488Z",
     "iopub.status.busy": "2023-01-16T18:01:15.608800Z",
     "iopub.status.idle": "2023-01-16T18:01:15.614862Z",
     "shell.execute_reply": "2023-01-16T18:01:15.613879Z"
    },
    "papermill": {
     "duration": 0.023646,
     "end_time": "2023-01-16T18:01:15.617122",
     "exception": false,
     "start_time": "2023-01-16T18:01:15.593476",
     "status": "completed"
    },
    "tags": []
   },
   "outputs": [
    {
     "data": {
      "text/plain": [
       "'Sách giáo khoa Lịch Sử lớp 7 (Tái bản 2021) Lịch Sử 7 (2021)'"
      ]
     },
     "execution_count": 21,
     "metadata": {},
     "output_type": "execute_result"
    }
   ],
   "source": [
    "test = data.description_name[3]\n",
    "test"
   ]
  },
  {
   "attachments": {},
   "cell_type": "markdown",
   "id": "4ba4410a",
   "metadata": {},
   "source": [
    "clean cho bản ghi test ở trên"
   ]
  },
  {
   "cell_type": "code",
   "execution_count": 22,
   "id": "15dad080",
   "metadata": {
    "execution": {
     "iopub.execute_input": "2023-01-16T18:01:15.647386Z",
     "iopub.status.busy": "2023-01-16T18:01:15.646967Z",
     "iopub.status.idle": "2023-01-16T18:01:15.666632Z",
     "shell.execute_reply": "2023-01-16T18:01:15.665538Z"
    },
    "papermill": {
     "duration": 0.037627,
     "end_time": "2023-01-16T18:01:15.669102",
     "exception": false,
     "start_time": "2023-01-16T18:01:15.631475",
     "status": "completed"
    },
    "tags": []
   },
   "outputs": [
    {
     "data": {
      "text/plain": [
       "'sch gio khoa lch lp 7 ti bn 221 lch 7 221'"
      ]
     },
     "execution_count": 22,
     "metadata": {},
     "output_type": "execute_result"
    }
   ],
   "source": [
    "clean(test)"
   ]
  },
  {
   "attachments": {},
   "cell_type": "markdown",
   "id": "fd90e7e4",
   "metadata": {
    "papermill": {
     "duration": 0.01401,
     "end_time": "2023-01-16T18:01:15.697753",
     "exception": false,
     "start_time": "2023-01-16T18:01:15.683743",
     "status": "completed"
    },
    "tags": []
   },
   "source": [
    "__Vectorization__"
   ]
  },
  {
   "attachments": {},
   "cell_type": "markdown",
   "id": "fda6550c",
   "metadata": {},
   "source": [
    "giai đoạn Vector hóa văn bản"
   ]
  },
  {
   "cell_type": "code",
   "execution_count": 23,
   "id": "23cfba51",
   "metadata": {
    "execution": {
     "iopub.execute_input": "2023-01-16T18:01:15.728451Z",
     "iopub.status.busy": "2023-01-16T18:01:15.727694Z",
     "iopub.status.idle": "2023-01-16T18:01:15.732514Z",
     "shell.execute_reply": "2023-01-16T18:01:15.731742Z"
    },
    "papermill": {
     "duration": 0.022756,
     "end_time": "2023-01-16T18:01:15.734807",
     "exception": false,
     "start_time": "2023-01-16T18:01:15.712051",
     "status": "completed"
    },
    "tags": []
   },
   "outputs": [],
   "source": [
    "from sklearn.feature_extraction.text import TfidfVectorizer"
   ]
  },
  {
   "attachments": {},
   "cell_type": "markdown",
   "id": "ab99154a",
   "metadata": {},
   "source": [
    "khởi tạo vectorizer"
   ]
  },
  {
   "cell_type": "code",
   "execution_count": 24,
   "id": "a73e36ee",
   "metadata": {
    "execution": {
     "iopub.execute_input": "2023-01-16T18:01:15.766468Z",
     "iopub.status.busy": "2023-01-16T18:01:15.765707Z",
     "iopub.status.idle": "2023-01-16T18:01:15.770539Z",
     "shell.execute_reply": "2023-01-16T18:01:15.769738Z"
    },
    "papermill": {
     "duration": 0.023134,
     "end_time": "2023-01-16T18:01:15.772860",
     "exception": false,
     "start_time": "2023-01-16T18:01:15.749726",
     "status": "completed"
    },
    "tags": []
   },
   "outputs": [],
   "source": [
    "vectorizer = TfidfVectorizer()"
   ]
  },
  {
   "attachments": {},
   "cell_type": "markdown",
   "id": "7b61af2a",
   "metadata": {},
   "source": [
    "fit vector"
   ]
  },
  {
   "cell_type": "code",
   "execution_count": 25,
   "id": "d79554bf",
   "metadata": {
    "execution": {
     "iopub.execute_input": "2023-01-16T18:01:15.803937Z",
     "iopub.status.busy": "2023-01-16T18:01:15.803182Z",
     "iopub.status.idle": "2023-01-16T18:01:15.821272Z",
     "shell.execute_reply": "2023-01-16T18:01:15.820442Z"
    },
    "papermill": {
     "duration": 0.036471,
     "end_time": "2023-01-16T18:01:15.823775",
     "exception": false,
     "start_time": "2023-01-16T18:01:15.787304",
     "status": "completed"
    },
    "tags": []
   },
   "outputs": [],
   "source": [
    "test_matrix = vectorizer.fit_transform(data.description_name)"
   ]
  },
  {
   "attachments": {},
   "cell_type": "markdown",
   "id": "f26a29ec",
   "metadata": {},
   "source": [
    "liệt kê các ma trận từ vector"
   ]
  },
  {
   "cell_type": "code",
   "execution_count": 26,
   "id": "30daeeca",
   "metadata": {
    "execution": {
     "iopub.execute_input": "2023-01-16T18:01:15.855342Z",
     "iopub.status.busy": "2023-01-16T18:01:15.854707Z",
     "iopub.status.idle": "2023-01-16T18:01:15.859600Z",
     "shell.execute_reply": "2023-01-16T18:01:15.858819Z"
    },
    "papermill": {
     "duration": 0.023352,
     "end_time": "2023-01-16T18:01:15.861767",
     "exception": false,
     "start_time": "2023-01-16T18:01:15.838415",
     "status": "completed"
    },
    "tags": []
   },
   "outputs": [],
   "source": [
    "test_matrix = test_matrix.toarray()"
   ]
  },
  {
   "attachments": {},
   "cell_type": "markdown",
   "id": "69686ec4",
   "metadata": {
    "papermill": {
     "duration": 0.013931,
     "end_time": "2023-01-16T18:01:15.890080",
     "exception": false,
     "start_time": "2023-01-16T18:01:15.876149",
     "status": "completed"
    },
    "tags": []
   },
   "source": [
    "__Bag of Words__"
   ]
  },
  {
   "attachments": {},
   "cell_type": "markdown",
   "id": "728eab08",
   "metadata": {},
   "source": [
    "thêm hàm đếm tần số xuất hiện của các vector"
   ]
  },
  {
   "cell_type": "code",
   "execution_count": 27,
   "id": "6252c2ab",
   "metadata": {
    "execution": {
     "iopub.execute_input": "2023-01-16T18:01:15.920356Z",
     "iopub.status.busy": "2023-01-16T18:01:15.919946Z",
     "iopub.status.idle": "2023-01-16T18:01:15.924515Z",
     "shell.execute_reply": "2023-01-16T18:01:15.923460Z"
    },
    "papermill": {
     "duration": 0.02233,
     "end_time": "2023-01-16T18:01:15.926714",
     "exception": false,
     "start_time": "2023-01-16T18:01:15.904384",
     "status": "completed"
    },
    "tags": []
   },
   "outputs": [],
   "source": [
    "from sklearn.feature_extraction.text import CountVectorizer"
   ]
  },
  {
   "attachments": {},
   "cell_type": "markdown",
   "id": "df3bd86e",
   "metadata": {},
   "source": [
    "khởi tạo"
   ]
  },
  {
   "attachments": {},
   "cell_type": "markdown",
   "id": "adf756cb",
   "metadata": {},
   "source": [
    "Bổ sung sau"
   ]
  },
  {
   "cell_type": "code",
   "execution_count": 28,
   "id": "d215ed33",
   "metadata": {
    "execution": {
     "iopub.execute_input": "2023-01-16T18:01:15.957680Z",
     "iopub.status.busy": "2023-01-16T18:01:15.956996Z",
     "iopub.status.idle": "2023-01-16T18:01:15.961105Z",
     "shell.execute_reply": "2023-01-16T18:01:15.960350Z"
    },
    "papermill": {
     "duration": 0.022202,
     "end_time": "2023-01-16T18:01:15.963285",
     "exception": false,
     "start_time": "2023-01-16T18:01:15.941083",
     "status": "completed"
    },
    "tags": []
   },
   "outputs": [],
   "source": [
    "bow = CountVectorizer()"
   ]
  },
  {
   "attachments": {},
   "cell_type": "markdown",
   "id": "b725fee3",
   "metadata": {},
   "source": [
    "Bổ sung sau"
   ]
  },
  {
   "cell_type": "code",
   "execution_count": 29,
   "id": "f78e51e4",
   "metadata": {
    "execution": {
     "iopub.execute_input": "2023-01-16T18:01:15.993520Z",
     "iopub.status.busy": "2023-01-16T18:01:15.993109Z",
     "iopub.status.idle": "2023-01-16T18:01:16.001176Z",
     "shell.execute_reply": "2023-01-16T18:01:16.000387Z"
    },
    "papermill": {
     "duration": 0.025488,
     "end_time": "2023-01-16T18:01:16.003169",
     "exception": false,
     "start_time": "2023-01-16T18:01:15.977681",
     "status": "completed"
    },
    "tags": []
   },
   "outputs": [],
   "source": [
    "bowmatrix = bow.fit_transform(data.description_name).toarray()"
   ]
  },
  {
   "attachments": {},
   "cell_type": "markdown",
   "id": "1624fe27",
   "metadata": {
    "papermill": {
     "duration": 0.013755,
     "end_time": "2023-01-16T18:01:16.031216",
     "exception": false,
     "start_time": "2023-01-16T18:01:16.017461",
     "status": "completed"
    },
    "tags": []
   },
   "source": [
    "__Recommender (Content based)__"
   ]
  },
  {
   "attachments": {},
   "cell_type": "markdown",
   "id": "39f53dc7",
   "metadata": {},
   "source": [
    "Bổ sung sau"
   ]
  },
  {
   "cell_type": "code",
   "execution_count": 30,
   "id": "08d742e5",
   "metadata": {
    "execution": {
     "iopub.execute_input": "2023-01-16T18:01:16.061392Z",
     "iopub.status.busy": "2023-01-16T18:01:16.060727Z",
     "iopub.status.idle": "2023-01-16T18:01:16.112436Z",
     "shell.execute_reply": "2023-01-16T18:01:16.111581Z"
    },
    "papermill": {
     "duration": 0.069495,
     "end_time": "2023-01-16T18:01:16.114849",
     "exception": false,
     "start_time": "2023-01-16T18:01:16.045354",
     "status": "completed"
    },
    "tags": []
   },
   "outputs": [],
   "source": [
    "from sklearn.neighbors import NearestNeighbors"
   ]
  },
  {
   "attachments": {},
   "cell_type": "markdown",
   "id": "9d3d10f8",
   "metadata": {},
   "source": [
    "Bổ sung sau"
   ]
  },
  {
   "cell_type": "code",
   "execution_count": 31,
   "id": "f090fe46",
   "metadata": {
    "execution": {
     "iopub.execute_input": "2023-01-16T18:01:16.145459Z",
     "iopub.status.busy": "2023-01-16T18:01:16.144796Z",
     "iopub.status.idle": "2023-01-16T18:01:16.149281Z",
     "shell.execute_reply": "2023-01-16T18:01:16.148184Z"
    },
    "papermill": {
     "duration": 0.022469,
     "end_time": "2023-01-16T18:01:16.151609",
     "exception": false,
     "start_time": "2023-01-16T18:01:16.129140",
     "status": "completed"
    },
    "tags": []
   },
   "outputs": [],
   "source": [
    "nn = NearestNeighbors()"
   ]
  },
  {
   "attachments": {},
   "cell_type": "markdown",
   "id": "d8a2cfcd",
   "metadata": {},
   "source": [
    "Bổ sung sau"
   ]
  },
  {
   "cell_type": "code",
   "execution_count": 32,
   "id": "f2bcb562",
   "metadata": {
    "execution": {
     "iopub.execute_input": "2023-01-16T18:01:16.182844Z",
     "iopub.status.busy": "2023-01-16T18:01:16.182446Z",
     "iopub.status.idle": "2023-01-16T18:01:16.191163Z",
     "shell.execute_reply": "2023-01-16T18:01:16.189978Z"
    },
    "papermill": {
     "duration": 0.027189,
     "end_time": "2023-01-16T18:01:16.193412",
     "exception": false,
     "start_time": "2023-01-16T18:01:16.166223",
     "status": "completed"
    },
    "tags": []
   },
   "outputs": [
    {
     "data": {
      "text/html": [
       "<style>#sk-container-id-1 {color: black;background-color: white;}#sk-container-id-1 pre{padding: 0;}#sk-container-id-1 div.sk-toggleable {background-color: white;}#sk-container-id-1 label.sk-toggleable__label {cursor: pointer;display: block;width: 100%;margin-bottom: 0;padding: 0.3em;box-sizing: border-box;text-align: center;}#sk-container-id-1 label.sk-toggleable__label-arrow:before {content: \"▸\";float: left;margin-right: 0.25em;color: #696969;}#sk-container-id-1 label.sk-toggleable__label-arrow:hover:before {color: black;}#sk-container-id-1 div.sk-estimator:hover label.sk-toggleable__label-arrow:before {color: black;}#sk-container-id-1 div.sk-toggleable__content {max-height: 0;max-width: 0;overflow: hidden;text-align: left;background-color: #f0f8ff;}#sk-container-id-1 div.sk-toggleable__content pre {margin: 0.2em;color: black;border-radius: 0.25em;background-color: #f0f8ff;}#sk-container-id-1 input.sk-toggleable__control:checked~div.sk-toggleable__content {max-height: 200px;max-width: 100%;overflow: auto;}#sk-container-id-1 input.sk-toggleable__control:checked~label.sk-toggleable__label-arrow:before {content: \"▾\";}#sk-container-id-1 div.sk-estimator input.sk-toggleable__control:checked~label.sk-toggleable__label {background-color: #d4ebff;}#sk-container-id-1 div.sk-label input.sk-toggleable__control:checked~label.sk-toggleable__label {background-color: #d4ebff;}#sk-container-id-1 input.sk-hidden--visually {border: 0;clip: rect(1px 1px 1px 1px);clip: rect(1px, 1px, 1px, 1px);height: 1px;margin: -1px;overflow: hidden;padding: 0;position: absolute;width: 1px;}#sk-container-id-1 div.sk-estimator {font-family: monospace;background-color: #f0f8ff;border: 1px dotted black;border-radius: 0.25em;box-sizing: border-box;margin-bottom: 0.5em;}#sk-container-id-1 div.sk-estimator:hover {background-color: #d4ebff;}#sk-container-id-1 div.sk-parallel-item::after {content: \"\";width: 100%;border-bottom: 1px solid gray;flex-grow: 1;}#sk-container-id-1 div.sk-label:hover label.sk-toggleable__label {background-color: #d4ebff;}#sk-container-id-1 div.sk-serial::before {content: \"\";position: absolute;border-left: 1px solid gray;box-sizing: border-box;top: 0;bottom: 0;left: 50%;z-index: 0;}#sk-container-id-1 div.sk-serial {display: flex;flex-direction: column;align-items: center;background-color: white;padding-right: 0.2em;padding-left: 0.2em;position: relative;}#sk-container-id-1 div.sk-item {position: relative;z-index: 1;}#sk-container-id-1 div.sk-parallel {display: flex;align-items: stretch;justify-content: center;background-color: white;position: relative;}#sk-container-id-1 div.sk-item::before, #sk-container-id-1 div.sk-parallel-item::before {content: \"\";position: absolute;border-left: 1px solid gray;box-sizing: border-box;top: 0;bottom: 0;left: 50%;z-index: -1;}#sk-container-id-1 div.sk-parallel-item {display: flex;flex-direction: column;z-index: 1;position: relative;background-color: white;}#sk-container-id-1 div.sk-parallel-item:first-child::after {align-self: flex-end;width: 50%;}#sk-container-id-1 div.sk-parallel-item:last-child::after {align-self: flex-start;width: 50%;}#sk-container-id-1 div.sk-parallel-item:only-child::after {width: 0;}#sk-container-id-1 div.sk-dashed-wrapped {border: 1px dashed gray;margin: 0 0.4em 0.5em 0.4em;box-sizing: border-box;padding-bottom: 0.4em;background-color: white;}#sk-container-id-1 div.sk-label label {font-family: monospace;font-weight: bold;display: inline-block;line-height: 1.2em;}#sk-container-id-1 div.sk-label-container {text-align: center;}#sk-container-id-1 div.sk-container {/* jupyter's `normalize.less` sets `[hidden] { display: none; }` but bootstrap.min.css set `[hidden] { display: none !important; }` so we also need the `!important` here to be able to override the default hidden behavior on the sphinx rendered scikit-learn.org. See: https://github.com/scikit-learn/scikit-learn/issues/21755 */display: inline-block !important;position: relative;}#sk-container-id-1 div.sk-text-repr-fallback {display: none;}</style><div id=\"sk-container-id-1\" class=\"sk-top-container\"><div class=\"sk-text-repr-fallback\"><pre>NearestNeighbors()</pre><b>In a Jupyter environment, please rerun this cell to show the HTML representation or trust the notebook. <br />On GitHub, the HTML representation is unable to render, please try loading this page with nbviewer.org.</b></div><div class=\"sk-container\" hidden><div class=\"sk-item\"><div class=\"sk-estimator sk-toggleable\"><input class=\"sk-toggleable__control sk-hidden--visually\" id=\"sk-estimator-id-1\" type=\"checkbox\" checked><label for=\"sk-estimator-id-1\" class=\"sk-toggleable__label sk-toggleable__label-arrow\">NearestNeighbors</label><div class=\"sk-toggleable__content\"><pre>NearestNeighbors()</pre></div></div></div></div></div>"
      ],
      "text/plain": [
       "NearestNeighbors()"
      ]
     },
     "execution_count": 32,
     "metadata": {},
     "output_type": "execute_result"
    }
   ],
   "source": [
    "nn.fit(test_matrix)"
   ]
  },
  {
   "attachments": {},
   "cell_type": "markdown",
   "id": "c6bd38eb",
   "metadata": {},
   "source": [
    "Bổ sung sau"
   ]
  },
  {
   "cell_type": "code",
   "execution_count": 33,
   "id": "6d31695f",
   "metadata": {
    "execution": {
     "iopub.execute_input": "2023-01-16T18:01:16.224539Z",
     "iopub.status.busy": "2023-01-16T18:01:16.223763Z",
     "iopub.status.idle": "2023-01-16T18:01:16.229731Z",
     "shell.execute_reply": "2023-01-16T18:01:16.228903Z"
    },
    "papermill": {
     "duration": 0.023911,
     "end_time": "2023-01-16T18:01:16.231987",
     "exception": false,
     "start_time": "2023-01-16T18:01:16.208076",
     "status": "completed"
    },
    "tags": []
   },
   "outputs": [],
   "source": [
    "#clean\n",
    "#transform\n",
    "#nneighbors\n",
    "def Recommender(text):\n",
    "    text = clean(text)\n",
    "    text_matrix = vectorizer.transform([text])\n",
    "    return nn.kneighbors(n_neighbors=5, X = text_matrix, return_distance=False)"
   ]
  },
  {
   "attachments": {},
   "cell_type": "markdown",
   "id": "d4f05d68",
   "metadata": {},
   "source": [
    "Bổ sung sau"
   ]
  },
  {
   "cell_type": "code",
   "execution_count": 34,
   "id": "47488b7a",
   "metadata": {
    "execution": {
     "iopub.execute_input": "2023-01-16T18:01:16.262296Z",
     "iopub.status.busy": "2023-01-16T18:01:16.261906Z",
     "iopub.status.idle": "2023-01-16T18:01:16.268559Z",
     "shell.execute_reply": "2023-01-16T18:01:16.267497Z"
    },
    "papermill": {
     "duration": 0.024463,
     "end_time": "2023-01-16T18:01:16.270809",
     "exception": false,
     "start_time": "2023-01-16T18:01:16.246346",
     "status": "completed"
    },
    "tags": []
   },
   "outputs": [
    {
     "data": {
      "text/plain": [
       "'Thiên tài bên trái, kẻ điên bên phải là cuốn sách dành cho những người điên rồ, những kẻ gây rối, những người chống đối, những mảnh ghép hình tròn trong những ô vuông không vừa vặn… những người nhìn mọi thứ khác biệt, không quan tâm đến quy tắc. Bạn có thể đồng ý, có thể phản đối, có thể vinh danh hay lăng mạ họ, nhưng điều duy nhất bạn không thể làm là phủ nhận sự tồn tại của họ. Đó là những người luôn tạo ra sự thay đổi trong khi hầu hết con người chỉ sống rập khuôn như một cái máy. Đa số đều nghĩ họ thật điên rồ nhưng nếu nhìn ở góc khác, ta lại thấy họ thiên tài. Bởi chỉ những người đủ điên nghĩ rằng họ có thể thay đổi thế giới mới là những người làm được điều đó. Thiên Tài Bên Trái, Kẻ Điên Bên Phải'"
      ]
     },
     "execution_count": 34,
     "metadata": {},
     "output_type": "execute_result"
    }
   ],
   "source": [
    "test = data.description_name[23]\n",
    "test"
   ]
  },
  {
   "attachments": {},
   "cell_type": "markdown",
   "id": "d3a1a86e",
   "metadata": {},
   "source": [
    "Bổ sung sau"
   ]
  },
  {
   "cell_type": "code",
   "execution_count": 35,
   "id": "69621c91",
   "metadata": {
    "execution": {
     "iopub.execute_input": "2023-01-16T18:01:16.301358Z",
     "iopub.status.busy": "2023-01-16T18:01:16.300723Z",
     "iopub.status.idle": "2023-01-16T18:01:16.314209Z",
     "shell.execute_reply": "2023-01-16T18:01:16.313298Z"
    },
    "papermill": {
     "duration": 0.031184,
     "end_time": "2023-01-16T18:01:16.316261",
     "exception": false,
     "start_time": "2023-01-16T18:01:16.285077",
     "status": "completed"
    },
    "tags": []
   },
   "outputs": [
    {
     "data": {
      "text/plain": [
       "array([[50, 53, 52, 23, 51]], dtype=int64)"
      ]
     },
     "execution_count": 35,
     "metadata": {},
     "output_type": "execute_result"
    }
   ],
   "source": [
    "Recommender(test)"
   ]
  },
  {
   "attachments": {},
   "cell_type": "markdown",
   "id": "c389142b",
   "metadata": {},
   "source": [
    "Bổ sung sau"
   ]
  },
  {
   "cell_type": "code",
   "execution_count": 36,
   "id": "338f5f7d",
   "metadata": {
    "execution": {
     "iopub.execute_input": "2023-01-16T18:01:16.347539Z",
     "iopub.status.busy": "2023-01-16T18:01:16.346833Z",
     "iopub.status.idle": "2023-01-16T18:01:16.355537Z",
     "shell.execute_reply": "2023-01-16T18:01:16.354400Z"
    },
    "papermill": {
     "duration": 0.026866,
     "end_time": "2023-01-16T18:01:16.357651",
     "exception": false,
     "start_time": "2023-01-16T18:01:16.330785",
     "status": "completed"
    },
    "tags": []
   },
   "outputs": [
    {
     "data": {
      "text/plain": [
       "30    <figure class=\"image\"><img src=\"https://salt.t...\n",
       "1     <p>Sách giáo khoa <strong>Tin Học lớp 10 </str...\n",
       "16    Khoa từ quê ra thành phố học, tấp tểnh làm thơ...\n",
       "23    Thiên tài bên trái, kẻ điên bên phải là cuốn s...\n",
       "4     Sách giáo khoa Tiếng Anh lớp 10 (Tái bản 2021)...\n",
       "Name: description_name, dtype: object"
      ]
     },
     "execution_count": 36,
     "metadata": {},
     "output_type": "execute_result"
    }
   ],
   "source": [
    "data.iloc[[30,  1, 16, 23,  4]].description_name"
   ]
  },
  {
   "attachments": {},
   "cell_type": "markdown",
   "id": "25c27d9f",
   "metadata": {
    "papermill": {
     "duration": 0.014588,
     "end_time": "2023-01-16T18:01:16.387405",
     "exception": false,
     "start_time": "2023-01-16T18:01:16.372817",
     "status": "completed"
    },
    "tags": []
   },
   "source": [
    "__Recommender with bag of words__"
   ]
  },
  {
   "attachments": {},
   "cell_type": "markdown",
   "id": "84fe448a",
   "metadata": {},
   "source": [
    "Bổ sung sau"
   ]
  },
  {
   "cell_type": "code",
   "execution_count": 37,
   "id": "7f9ce55a",
   "metadata": {
    "execution": {
     "iopub.execute_input": "2023-01-16T18:01:16.418083Z",
     "iopub.status.busy": "2023-01-16T18:01:16.417672Z",
     "iopub.status.idle": "2023-01-16T18:01:16.422021Z",
     "shell.execute_reply": "2023-01-16T18:01:16.421164Z"
    },
    "papermill": {
     "duration": 0.022449,
     "end_time": "2023-01-16T18:01:16.424371",
     "exception": false,
     "start_time": "2023-01-16T18:01:16.401922",
     "status": "completed"
    },
    "tags": []
   },
   "outputs": [],
   "source": [
    "bownn = NearestNeighbors()"
   ]
  },
  {
   "attachments": {},
   "cell_type": "markdown",
   "id": "97d54c19",
   "metadata": {},
   "source": [
    "Bổ sung sau"
   ]
  },
  {
   "cell_type": "code",
   "execution_count": 38,
   "id": "6cb9293f",
   "metadata": {
    "execution": {
     "iopub.execute_input": "2023-01-16T18:01:16.455639Z",
     "iopub.status.busy": "2023-01-16T18:01:16.455209Z",
     "iopub.status.idle": "2023-01-16T18:01:16.462177Z",
     "shell.execute_reply": "2023-01-16T18:01:16.461104Z"
    },
    "papermill": {
     "duration": 0.0253,
     "end_time": "2023-01-16T18:01:16.464506",
     "exception": false,
     "start_time": "2023-01-16T18:01:16.439206",
     "status": "completed"
    },
    "tags": []
   },
   "outputs": [
    {
     "data": {
      "text/html": [
       "<style>#sk-container-id-2 {color: black;background-color: white;}#sk-container-id-2 pre{padding: 0;}#sk-container-id-2 div.sk-toggleable {background-color: white;}#sk-container-id-2 label.sk-toggleable__label {cursor: pointer;display: block;width: 100%;margin-bottom: 0;padding: 0.3em;box-sizing: border-box;text-align: center;}#sk-container-id-2 label.sk-toggleable__label-arrow:before {content: \"▸\";float: left;margin-right: 0.25em;color: #696969;}#sk-container-id-2 label.sk-toggleable__label-arrow:hover:before {color: black;}#sk-container-id-2 div.sk-estimator:hover label.sk-toggleable__label-arrow:before {color: black;}#sk-container-id-2 div.sk-toggleable__content {max-height: 0;max-width: 0;overflow: hidden;text-align: left;background-color: #f0f8ff;}#sk-container-id-2 div.sk-toggleable__content pre {margin: 0.2em;color: black;border-radius: 0.25em;background-color: #f0f8ff;}#sk-container-id-2 input.sk-toggleable__control:checked~div.sk-toggleable__content {max-height: 200px;max-width: 100%;overflow: auto;}#sk-container-id-2 input.sk-toggleable__control:checked~label.sk-toggleable__label-arrow:before {content: \"▾\";}#sk-container-id-2 div.sk-estimator input.sk-toggleable__control:checked~label.sk-toggleable__label {background-color: #d4ebff;}#sk-container-id-2 div.sk-label input.sk-toggleable__control:checked~label.sk-toggleable__label {background-color: #d4ebff;}#sk-container-id-2 input.sk-hidden--visually {border: 0;clip: rect(1px 1px 1px 1px);clip: rect(1px, 1px, 1px, 1px);height: 1px;margin: -1px;overflow: hidden;padding: 0;position: absolute;width: 1px;}#sk-container-id-2 div.sk-estimator {font-family: monospace;background-color: #f0f8ff;border: 1px dotted black;border-radius: 0.25em;box-sizing: border-box;margin-bottom: 0.5em;}#sk-container-id-2 div.sk-estimator:hover {background-color: #d4ebff;}#sk-container-id-2 div.sk-parallel-item::after {content: \"\";width: 100%;border-bottom: 1px solid gray;flex-grow: 1;}#sk-container-id-2 div.sk-label:hover label.sk-toggleable__label {background-color: #d4ebff;}#sk-container-id-2 div.sk-serial::before {content: \"\";position: absolute;border-left: 1px solid gray;box-sizing: border-box;top: 0;bottom: 0;left: 50%;z-index: 0;}#sk-container-id-2 div.sk-serial {display: flex;flex-direction: column;align-items: center;background-color: white;padding-right: 0.2em;padding-left: 0.2em;position: relative;}#sk-container-id-2 div.sk-item {position: relative;z-index: 1;}#sk-container-id-2 div.sk-parallel {display: flex;align-items: stretch;justify-content: center;background-color: white;position: relative;}#sk-container-id-2 div.sk-item::before, #sk-container-id-2 div.sk-parallel-item::before {content: \"\";position: absolute;border-left: 1px solid gray;box-sizing: border-box;top: 0;bottom: 0;left: 50%;z-index: -1;}#sk-container-id-2 div.sk-parallel-item {display: flex;flex-direction: column;z-index: 1;position: relative;background-color: white;}#sk-container-id-2 div.sk-parallel-item:first-child::after {align-self: flex-end;width: 50%;}#sk-container-id-2 div.sk-parallel-item:last-child::after {align-self: flex-start;width: 50%;}#sk-container-id-2 div.sk-parallel-item:only-child::after {width: 0;}#sk-container-id-2 div.sk-dashed-wrapped {border: 1px dashed gray;margin: 0 0.4em 0.5em 0.4em;box-sizing: border-box;padding-bottom: 0.4em;background-color: white;}#sk-container-id-2 div.sk-label label {font-family: monospace;font-weight: bold;display: inline-block;line-height: 1.2em;}#sk-container-id-2 div.sk-label-container {text-align: center;}#sk-container-id-2 div.sk-container {/* jupyter's `normalize.less` sets `[hidden] { display: none; }` but bootstrap.min.css set `[hidden] { display: none !important; }` so we also need the `!important` here to be able to override the default hidden behavior on the sphinx rendered scikit-learn.org. See: https://github.com/scikit-learn/scikit-learn/issues/21755 */display: inline-block !important;position: relative;}#sk-container-id-2 div.sk-text-repr-fallback {display: none;}</style><div id=\"sk-container-id-2\" class=\"sk-top-container\"><div class=\"sk-text-repr-fallback\"><pre>NearestNeighbors()</pre><b>In a Jupyter environment, please rerun this cell to show the HTML representation or trust the notebook. <br />On GitHub, the HTML representation is unable to render, please try loading this page with nbviewer.org.</b></div><div class=\"sk-container\" hidden><div class=\"sk-item\"><div class=\"sk-estimator sk-toggleable\"><input class=\"sk-toggleable__control sk-hidden--visually\" id=\"sk-estimator-id-2\" type=\"checkbox\" checked><label for=\"sk-estimator-id-2\" class=\"sk-toggleable__label sk-toggleable__label-arrow\">NearestNeighbors</label><div class=\"sk-toggleable__content\"><pre>NearestNeighbors()</pre></div></div></div></div></div>"
      ],
      "text/plain": [
       "NearestNeighbors()"
      ]
     },
     "execution_count": 38,
     "metadata": {},
     "output_type": "execute_result"
    }
   ],
   "source": [
    "bownn.fit(bowmatrix)"
   ]
  },
  {
   "attachments": {},
   "cell_type": "markdown",
   "id": "0479483d",
   "metadata": {},
   "source": [
    "Bổ sung sau"
   ]
  },
  {
   "cell_type": "code",
   "execution_count": 39,
   "id": "9ec1d0ea",
   "metadata": {
    "execution": {
     "iopub.execute_input": "2023-01-16T18:01:16.496152Z",
     "iopub.status.busy": "2023-01-16T18:01:16.495751Z",
     "iopub.status.idle": "2023-01-16T18:01:16.501124Z",
     "shell.execute_reply": "2023-01-16T18:01:16.500026Z"
    },
    "papermill": {
     "duration": 0.023815,
     "end_time": "2023-01-16T18:01:16.503378",
     "exception": false,
     "start_time": "2023-01-16T18:01:16.479563",
     "status": "completed"
    },
    "tags": []
   },
   "outputs": [],
   "source": [
    "def Recommender_BOW(text):\n",
    "    text = clean(text)\n",
    "    bowmatrix = vectorizer.transform([text])\n",
    "    return bownn.kneighbors(n_neighbors=5, X = bowmatrix, return_distance=False)"
   ]
  },
  {
   "attachments": {},
   "cell_type": "markdown",
   "id": "4c01cb85",
   "metadata": {},
   "source": [
    "Bổ sung sau"
   ]
  },
  {
   "cell_type": "code",
   "execution_count": 40,
   "id": "ff03f3ba",
   "metadata": {
    "execution": {
     "iopub.execute_input": "2023-01-16T18:01:16.535304Z",
     "iopub.status.busy": "2023-01-16T18:01:16.534908Z",
     "iopub.status.idle": "2023-01-16T18:01:16.544359Z",
     "shell.execute_reply": "2023-01-16T18:01:16.543543Z"
    },
    "papermill": {
     "duration": 0.028336,
     "end_time": "2023-01-16T18:01:16.546489",
     "exception": false,
     "start_time": "2023-01-16T18:01:16.518153",
     "status": "completed"
    },
    "tags": []
   },
   "outputs": [
    {
     "data": {
      "text/plain": [
       "array([[88, 65, 73, 56, 83]], dtype=int64)"
      ]
     },
     "execution_count": 40,
     "metadata": {},
     "output_type": "execute_result"
    }
   ],
   "source": [
    "Recommender_BOW(test)"
   ]
  },
  {
   "attachments": {},
   "cell_type": "markdown",
   "id": "5b65aae1",
   "metadata": {
    "papermill": {
     "duration": 0.014421,
     "end_time": "2023-01-16T18:01:16.575845",
     "exception": false,
     "start_time": "2023-01-16T18:01:16.561424",
     "status": "completed"
    },
    "tags": []
   },
   "source": [
    "__Recommender (Collaborative filtering)__"
   ]
  },
  {
   "cell_type": "code",
   "execution_count": 41,
   "id": "aeadf44a",
   "metadata": {
    "execution": {
     "iopub.execute_input": "2023-01-16T18:01:16.606987Z",
     "iopub.status.busy": "2023-01-16T18:01:16.606588Z",
     "iopub.status.idle": "2023-01-16T18:01:16.610880Z",
     "shell.execute_reply": "2023-01-16T18:01:16.609852Z"
    },
    "papermill": {
     "duration": 0.022609,
     "end_time": "2023-01-16T18:01:16.613197",
     "exception": false,
     "start_time": "2023-01-16T18:01:16.590588",
     "status": "completed"
    },
    "tags": []
   },
   "outputs": [],
   "source": [
    "#With bag of words"
   ]
  },
  {
   "attachments": {},
   "cell_type": "markdown",
   "id": "87811ca3",
   "metadata": {},
   "source": [
    "Bổ sung sau"
   ]
  },
  {
   "cell_type": "code",
   "execution_count": 42,
   "id": "0ad6748e",
   "metadata": {
    "execution": {
     "iopub.execute_input": "2023-01-16T18:01:16.644675Z",
     "iopub.status.busy": "2023-01-16T18:01:16.644256Z",
     "iopub.status.idle": "2023-01-16T18:01:16.725445Z",
     "shell.execute_reply": "2023-01-16T18:01:16.724393Z"
    },
    "papermill": {
     "duration": 0.099891,
     "end_time": "2023-01-16T18:01:16.728131",
     "exception": false,
     "start_time": "2023-01-16T18:01:16.628240",
     "status": "completed"
    },
    "tags": []
   },
   "outputs": [],
   "source": [
    "from sklearn.cluster import KMeans"
   ]
  },
  {
   "attachments": {},
   "cell_type": "markdown",
   "id": "1888e9ee",
   "metadata": {},
   "source": [
    "Bổ sung sau"
   ]
  },
  {
   "cell_type": "code",
   "execution_count": 43,
   "id": "17acd0e2",
   "metadata": {
    "execution": {
     "iopub.execute_input": "2023-01-16T18:01:16.760211Z",
     "iopub.status.busy": "2023-01-16T18:01:16.759304Z",
     "iopub.status.idle": "2023-01-16T18:01:16.764996Z",
     "shell.execute_reply": "2023-01-16T18:01:16.763847Z"
    },
    "papermill": {
     "duration": 0.024191,
     "end_time": "2023-01-16T18:01:16.767380",
     "exception": false,
     "start_time": "2023-01-16T18:01:16.743189",
     "status": "completed"
    },
    "tags": []
   },
   "outputs": [],
   "source": [
    "X = data.description_name"
   ]
  },
  {
   "attachments": {},
   "cell_type": "markdown",
   "id": "5a928fce",
   "metadata": {},
   "source": [
    "Bổ sung sau"
   ]
  },
  {
   "cell_type": "code",
   "execution_count": 44,
   "id": "5f34edce",
   "metadata": {
    "execution": {
     "iopub.execute_input": "2023-01-16T18:01:16.799369Z",
     "iopub.status.busy": "2023-01-16T18:01:16.798957Z",
     "iopub.status.idle": "2023-01-16T18:01:22.551203Z",
     "shell.execute_reply": "2023-01-16T18:01:22.550143Z"
    },
    "papermill": {
     "duration": 5.772542,
     "end_time": "2023-01-16T18:01:22.554941",
     "exception": false,
     "start_time": "2023-01-16T18:01:16.782399",
     "status": "completed"
    },
    "tags": []
   },
   "outputs": [
    {
     "name": "stderr",
     "output_type": "stream",
     "text": [
      "C:\\Users\\pc\\AppData\\Local\\Packages\\PythonSoftwareFoundation.Python.3.11_qbz5n2kfra8p0\\LocalCache\\local-packages\\Python311\\site-packages\\sklearn\\cluster\\_kmeans.py:870: FutureWarning: The default value of `n_init` will change from 10 to 'auto' in 1.4. Set the value of `n_init` explicitly to suppress the warning\n",
      "  warnings.warn(\n",
      "C:\\Users\\pc\\AppData\\Local\\Packages\\PythonSoftwareFoundation.Python.3.11_qbz5n2kfra8p0\\LocalCache\\local-packages\\Python311\\site-packages\\sklearn\\cluster\\_kmeans.py:870: FutureWarning: The default value of `n_init` will change from 10 to 'auto' in 1.4. Set the value of `n_init` explicitly to suppress the warning\n",
      "  warnings.warn(\n",
      "C:\\Users\\pc\\AppData\\Local\\Packages\\PythonSoftwareFoundation.Python.3.11_qbz5n2kfra8p0\\LocalCache\\local-packages\\Python311\\site-packages\\sklearn\\cluster\\_kmeans.py:870: FutureWarning: The default value of `n_init` will change from 10 to 'auto' in 1.4. Set the value of `n_init` explicitly to suppress the warning\n",
      "  warnings.warn(\n",
      "C:\\Users\\pc\\AppData\\Local\\Packages\\PythonSoftwareFoundation.Python.3.11_qbz5n2kfra8p0\\LocalCache\\local-packages\\Python311\\site-packages\\sklearn\\cluster\\_kmeans.py:870: FutureWarning: The default value of `n_init` will change from 10 to 'auto' in 1.4. Set the value of `n_init` explicitly to suppress the warning\n",
      "  warnings.warn(\n",
      "C:\\Users\\pc\\AppData\\Local\\Packages\\PythonSoftwareFoundation.Python.3.11_qbz5n2kfra8p0\\LocalCache\\local-packages\\Python311\\site-packages\\sklearn\\cluster\\_kmeans.py:870: FutureWarning: The default value of `n_init` will change from 10 to 'auto' in 1.4. Set the value of `n_init` explicitly to suppress the warning\n",
      "  warnings.warn(\n",
      "C:\\Users\\pc\\AppData\\Local\\Packages\\PythonSoftwareFoundation.Python.3.11_qbz5n2kfra8p0\\LocalCache\\local-packages\\Python311\\site-packages\\sklearn\\cluster\\_kmeans.py:870: FutureWarning: The default value of `n_init` will change from 10 to 'auto' in 1.4. Set the value of `n_init` explicitly to suppress the warning\n",
      "  warnings.warn(\n",
      "C:\\Users\\pc\\AppData\\Local\\Packages\\PythonSoftwareFoundation.Python.3.11_qbz5n2kfra8p0\\LocalCache\\local-packages\\Python311\\site-packages\\sklearn\\cluster\\_kmeans.py:870: FutureWarning: The default value of `n_init` will change from 10 to 'auto' in 1.4. Set the value of `n_init` explicitly to suppress the warning\n",
      "  warnings.warn(\n",
      "C:\\Users\\pc\\AppData\\Local\\Packages\\PythonSoftwareFoundation.Python.3.11_qbz5n2kfra8p0\\LocalCache\\local-packages\\Python311\\site-packages\\sklearn\\cluster\\_kmeans.py:870: FutureWarning: The default value of `n_init` will change from 10 to 'auto' in 1.4. Set the value of `n_init` explicitly to suppress the warning\n",
      "  warnings.warn(\n",
      "C:\\Users\\pc\\AppData\\Local\\Packages\\PythonSoftwareFoundation.Python.3.11_qbz5n2kfra8p0\\LocalCache\\local-packages\\Python311\\site-packages\\sklearn\\cluster\\_kmeans.py:870: FutureWarning: The default value of `n_init` will change from 10 to 'auto' in 1.4. Set the value of `n_init` explicitly to suppress the warning\n",
      "  warnings.warn(\n",
      "C:\\Users\\pc\\AppData\\Local\\Packages\\PythonSoftwareFoundation.Python.3.11_qbz5n2kfra8p0\\LocalCache\\local-packages\\Python311\\site-packages\\sklearn\\cluster\\_kmeans.py:870: FutureWarning: The default value of `n_init` will change from 10 to 'auto' in 1.4. Set the value of `n_init` explicitly to suppress the warning\n",
      "  warnings.warn(\n"
     ]
    },
    {
     "data": {
      "text/plain": [
       "[100803.70873786404,\n",
       " 58670.79545454546,\n",
       " 44983.049504950504,\n",
       " 28602.140000000003,\n",
       " 20534.545454545452,\n",
       " 15382.28865979381,\n",
       " 12582.8064516129,\n",
       " 10835.614583333343,\n",
       " 9410.159574468078,\n",
       " 7667.70562770563]"
      ]
     },
     "execution_count": 44,
     "metadata": {},
     "output_type": "execute_result"
    }
   ],
   "source": [
    "sse = []\n",
    "k_range = range(1, 11)  # 1, 10\n",
    "for k in k_range:\n",
    "    model = KMeans(n_clusters=k)\n",
    "    model.fit(bowmatrix)\n",
    "    sse.append(model.inertia_)\n",
    "sse"
   ]
  },
  {
   "attachments": {},
   "cell_type": "markdown",
   "id": "df087876",
   "metadata": {},
   "source": [
    "Bổ sung sau"
   ]
  },
  {
   "cell_type": "code",
   "execution_count": 45,
   "id": "2b5fdf1a",
   "metadata": {
    "execution": {
     "iopub.execute_input": "2023-01-16T18:01:22.655851Z",
     "iopub.status.busy": "2023-01-16T18:01:22.655104Z",
     "iopub.status.idle": "2023-01-16T18:01:22.809889Z",
     "shell.execute_reply": "2023-01-16T18:01:22.808766Z"
    },
    "papermill": {
     "duration": 0.200401,
     "end_time": "2023-01-16T18:01:22.813643",
     "exception": false,
     "start_time": "2023-01-16T18:01:22.613242",
     "status": "completed"
    },
    "tags": []
   },
   "outputs": [
    {
     "name": "stderr",
     "output_type": "stream",
     "text": [
      "C:\\Users\\pc\\AppData\\Local\\Packages\\PythonSoftwareFoundation.Python.3.11_qbz5n2kfra8p0\\LocalCache\\local-packages\\Python311\\site-packages\\sklearn\\cluster\\_kmeans.py:870: FutureWarning: The default value of `n_init` will change from 10 to 'auto' in 1.4. Set the value of `n_init` explicitly to suppress the warning\n",
      "  warnings.warn(\n"
     ]
    },
    {
     "data": {
      "text/html": [
       "<style>#sk-container-id-3 {color: black;background-color: white;}#sk-container-id-3 pre{padding: 0;}#sk-container-id-3 div.sk-toggleable {background-color: white;}#sk-container-id-3 label.sk-toggleable__label {cursor: pointer;display: block;width: 100%;margin-bottom: 0;padding: 0.3em;box-sizing: border-box;text-align: center;}#sk-container-id-3 label.sk-toggleable__label-arrow:before {content: \"▸\";float: left;margin-right: 0.25em;color: #696969;}#sk-container-id-3 label.sk-toggleable__label-arrow:hover:before {color: black;}#sk-container-id-3 div.sk-estimator:hover label.sk-toggleable__label-arrow:before {color: black;}#sk-container-id-3 div.sk-toggleable__content {max-height: 0;max-width: 0;overflow: hidden;text-align: left;background-color: #f0f8ff;}#sk-container-id-3 div.sk-toggleable__content pre {margin: 0.2em;color: black;border-radius: 0.25em;background-color: #f0f8ff;}#sk-container-id-3 input.sk-toggleable__control:checked~div.sk-toggleable__content {max-height: 200px;max-width: 100%;overflow: auto;}#sk-container-id-3 input.sk-toggleable__control:checked~label.sk-toggleable__label-arrow:before {content: \"▾\";}#sk-container-id-3 div.sk-estimator input.sk-toggleable__control:checked~label.sk-toggleable__label {background-color: #d4ebff;}#sk-container-id-3 div.sk-label input.sk-toggleable__control:checked~label.sk-toggleable__label {background-color: #d4ebff;}#sk-container-id-3 input.sk-hidden--visually {border: 0;clip: rect(1px 1px 1px 1px);clip: rect(1px, 1px, 1px, 1px);height: 1px;margin: -1px;overflow: hidden;padding: 0;position: absolute;width: 1px;}#sk-container-id-3 div.sk-estimator {font-family: monospace;background-color: #f0f8ff;border: 1px dotted black;border-radius: 0.25em;box-sizing: border-box;margin-bottom: 0.5em;}#sk-container-id-3 div.sk-estimator:hover {background-color: #d4ebff;}#sk-container-id-3 div.sk-parallel-item::after {content: \"\";width: 100%;border-bottom: 1px solid gray;flex-grow: 1;}#sk-container-id-3 div.sk-label:hover label.sk-toggleable__label {background-color: #d4ebff;}#sk-container-id-3 div.sk-serial::before {content: \"\";position: absolute;border-left: 1px solid gray;box-sizing: border-box;top: 0;bottom: 0;left: 50%;z-index: 0;}#sk-container-id-3 div.sk-serial {display: flex;flex-direction: column;align-items: center;background-color: white;padding-right: 0.2em;padding-left: 0.2em;position: relative;}#sk-container-id-3 div.sk-item {position: relative;z-index: 1;}#sk-container-id-3 div.sk-parallel {display: flex;align-items: stretch;justify-content: center;background-color: white;position: relative;}#sk-container-id-3 div.sk-item::before, #sk-container-id-3 div.sk-parallel-item::before {content: \"\";position: absolute;border-left: 1px solid gray;box-sizing: border-box;top: 0;bottom: 0;left: 50%;z-index: -1;}#sk-container-id-3 div.sk-parallel-item {display: flex;flex-direction: column;z-index: 1;position: relative;background-color: white;}#sk-container-id-3 div.sk-parallel-item:first-child::after {align-self: flex-end;width: 50%;}#sk-container-id-3 div.sk-parallel-item:last-child::after {align-self: flex-start;width: 50%;}#sk-container-id-3 div.sk-parallel-item:only-child::after {width: 0;}#sk-container-id-3 div.sk-dashed-wrapped {border: 1px dashed gray;margin: 0 0.4em 0.5em 0.4em;box-sizing: border-box;padding-bottom: 0.4em;background-color: white;}#sk-container-id-3 div.sk-label label {font-family: monospace;font-weight: bold;display: inline-block;line-height: 1.2em;}#sk-container-id-3 div.sk-label-container {text-align: center;}#sk-container-id-3 div.sk-container {/* jupyter's `normalize.less` sets `[hidden] { display: none; }` but bootstrap.min.css set `[hidden] { display: none !important; }` so we also need the `!important` here to be able to override the default hidden behavior on the sphinx rendered scikit-learn.org. See: https://github.com/scikit-learn/scikit-learn/issues/21755 */display: inline-block !important;position: relative;}#sk-container-id-3 div.sk-text-repr-fallback {display: none;}</style><div id=\"sk-container-id-3\" class=\"sk-top-container\"><div class=\"sk-text-repr-fallback\"><pre>KMeans(n_clusters=2)</pre><b>In a Jupyter environment, please rerun this cell to show the HTML representation or trust the notebook. <br />On GitHub, the HTML representation is unable to render, please try loading this page with nbviewer.org.</b></div><div class=\"sk-container\" hidden><div class=\"sk-item\"><div class=\"sk-estimator sk-toggleable\"><input class=\"sk-toggleable__control sk-hidden--visually\" id=\"sk-estimator-id-3\" type=\"checkbox\" checked><label for=\"sk-estimator-id-3\" class=\"sk-toggleable__label sk-toggleable__label-arrow\">KMeans</label><div class=\"sk-toggleable__content\"><pre>KMeans(n_clusters=2)</pre></div></div></div></div></div>"
      ],
      "text/plain": [
       "KMeans(n_clusters=2)"
      ]
     },
     "execution_count": 45,
     "metadata": {},
     "output_type": "execute_result"
    }
   ],
   "source": [
    "model = KMeans(n_clusters = 2)\n",
    "model.fit(bowmatrix)"
   ]
  },
  {
   "attachments": {},
   "cell_type": "markdown",
   "id": "8ebbe9d1",
   "metadata": {},
   "source": [
    "Bổ sung sau"
   ]
  },
  {
   "cell_type": "code",
   "execution_count": 46,
   "id": "6e2006c1",
   "metadata": {
    "execution": {
     "iopub.execute_input": "2023-01-16T18:01:22.916453Z",
     "iopub.status.busy": "2023-01-16T18:01:22.915793Z",
     "iopub.status.idle": "2023-01-16T18:01:22.920922Z",
     "shell.execute_reply": "2023-01-16T18:01:22.919795Z"
    },
    "papermill": {
     "duration": 0.049174,
     "end_time": "2023-01-16T18:01:22.923176",
     "exception": false,
     "start_time": "2023-01-16T18:01:22.874002",
     "status": "completed"
    },
    "tags": []
   },
   "outputs": [],
   "source": [
    "label = model.labels_"
   ]
  },
  {
   "attachments": {},
   "cell_type": "markdown",
   "id": "eabf5610",
   "metadata": {},
   "source": [
    "Bổ sung sau"
   ]
  },
  {
   "cell_type": "code",
   "execution_count": 47,
   "id": "e286a21a",
   "metadata": {
    "execution": {
     "iopub.execute_input": "2023-01-16T18:01:22.955833Z",
     "iopub.status.busy": "2023-01-16T18:01:22.955009Z",
     "iopub.status.idle": "2023-01-16T18:01:22.962091Z",
     "shell.execute_reply": "2023-01-16T18:01:22.961232Z"
    },
    "papermill": {
     "duration": 0.02588,
     "end_time": "2023-01-16T18:01:22.964238",
     "exception": false,
     "start_time": "2023-01-16T18:01:22.938358",
     "status": "completed"
    },
    "tags": []
   },
   "outputs": [
    {
     "data": {
      "text/plain": [
       "array([0, 0, 0, 0, 0, 0, 0, 0, 0, 0, 0, 0, 0, 0, 0, 0, 0, 0, 0, 0, 0, 0,\n",
       "       0, 0, 0, 0, 0, 0, 0, 1, 0, 0, 0, 0, 0, 0, 0, 0, 0, 0, 0, 0, 0, 0,\n",
       "       0, 0, 0, 0, 0, 0, 0, 1, 1, 1, 0, 0, 0, 0, 0, 0, 0, 0, 0, 0, 0, 0,\n",
       "       0, 0, 0, 0, 0, 0, 0, 0, 0, 0, 0, 0, 0, 0, 0, 0, 0, 0, 0, 0, 0, 0,\n",
       "       0, 0, 0, 0, 0, 0, 0, 0, 0, 0, 0, 0, 0, 0, 0])"
      ]
     },
     "execution_count": 47,
     "metadata": {},
     "output_type": "execute_result"
    }
   ],
   "source": [
    "label"
   ]
  },
  {
   "attachments": {},
   "cell_type": "markdown",
   "id": "c5622be1",
   "metadata": {},
   "source": [
    "Bổ sung sau"
   ]
  },
  {
   "cell_type": "code",
   "execution_count": 48,
   "id": "2b993658",
   "metadata": {
    "execution": {
     "iopub.execute_input": "2023-01-16T18:01:22.996564Z",
     "iopub.status.busy": "2023-01-16T18:01:22.996156Z",
     "iopub.status.idle": "2023-01-16T18:01:23.002013Z",
     "shell.execute_reply": "2023-01-16T18:01:23.001299Z"
    },
    "papermill": {
     "duration": 0.024992,
     "end_time": "2023-01-16T18:01:23.004500",
     "exception": false,
     "start_time": "2023-01-16T18:01:22.979508",
     "status": "completed"
    },
    "tags": []
   },
   "outputs": [],
   "source": [
    "data['Label'] = label"
   ]
  },
  {
   "attachments": {},
   "cell_type": "markdown",
   "id": "dd8c17ac",
   "metadata": {},
   "source": [
    "Bổ sung sau"
   ]
  },
  {
   "cell_type": "code",
   "execution_count": 49,
   "id": "1287820d",
   "metadata": {
    "execution": {
     "iopub.execute_input": "2023-01-16T18:01:23.036234Z",
     "iopub.status.busy": "2023-01-16T18:01:23.035839Z",
     "iopub.status.idle": "2023-01-16T18:01:23.044776Z",
     "shell.execute_reply": "2023-01-16T18:01:23.043778Z"
    },
    "papermill": {
     "duration": 0.027494,
     "end_time": "2023-01-16T18:01:23.047125",
     "exception": false,
     "start_time": "2023-01-16T18:01:23.019631",
     "status": "completed"
    },
    "tags": []
   },
   "outputs": [
    {
     "data": {
      "text/plain": [
       "Label\n",
       "0    99\n",
       "1     4\n",
       "Name: count, dtype: int64"
      ]
     },
     "execution_count": 49,
     "metadata": {},
     "output_type": "execute_result"
    }
   ],
   "source": [
    "data.Label.value_counts()"
   ]
  },
  {
   "attachments": {},
   "cell_type": "markdown",
   "id": "976afe19",
   "metadata": {
    "papermill": {
     "duration": 0.014855,
     "end_time": "2023-01-16T18:01:23.077744",
     "exception": false,
     "start_time": "2023-01-16T18:01:23.062889",
     "status": "completed"
    },
    "tags": []
   },
   "source": [
    "# Cosine similarity"
   ]
  },
  {
   "attachments": {},
   "cell_type": "markdown",
   "id": "cdd2c685",
   "metadata": {},
   "source": [
    "Bổ sung sau"
   ]
  },
  {
   "cell_type": "code",
   "execution_count": 50,
   "id": "8ba3782d",
   "metadata": {
    "execution": {
     "iopub.execute_input": "2023-01-16T18:01:23.110233Z",
     "iopub.status.busy": "2023-01-16T18:01:23.109135Z",
     "iopub.status.idle": "2023-01-16T18:01:23.113878Z",
     "shell.execute_reply": "2023-01-16T18:01:23.113131Z"
    },
    "papermill": {
     "duration": 0.023059,
     "end_time": "2023-01-16T18:01:23.115855",
     "exception": false,
     "start_time": "2023-01-16T18:01:23.092796",
     "status": "completed"
    },
    "tags": []
   },
   "outputs": [],
   "source": [
    "from sklearn.metrics.pairwise import cosine_similarity"
   ]
  },
  {
   "attachments": {},
   "cell_type": "markdown",
   "id": "2b844777",
   "metadata": {},
   "source": [
    "Bổ sung sau"
   ]
  },
  {
   "cell_type": "code",
   "execution_count": 51,
   "id": "75ee6de0",
   "metadata": {
    "execution": {
     "iopub.execute_input": "2023-01-16T18:01:23.148207Z",
     "iopub.status.busy": "2023-01-16T18:01:23.147342Z",
     "iopub.status.idle": "2023-01-16T18:01:23.153188Z",
     "shell.execute_reply": "2023-01-16T18:01:23.152235Z"
    },
    "papermill": {
     "duration": 0.024352,
     "end_time": "2023-01-16T18:01:23.155372",
     "exception": false,
     "start_time": "2023-01-16T18:01:23.131020",
     "status": "completed"
    },
    "tags": []
   },
   "outputs": [],
   "source": [
    "score = cosine_similarity(test_matrix)"
   ]
  },
  {
   "attachments": {},
   "cell_type": "markdown",
   "id": "a5b831ff",
   "metadata": {},
   "source": [
    "Bổ sung sau"
   ]
  },
  {
   "cell_type": "code",
   "execution_count": 52,
   "id": "e5e0a045",
   "metadata": {
    "execution": {
     "iopub.execute_input": "2023-01-16T18:01:23.188590Z",
     "iopub.status.busy": "2023-01-16T18:01:23.188178Z",
     "iopub.status.idle": "2023-01-16T18:01:23.195483Z",
     "shell.execute_reply": "2023-01-16T18:01:23.194394Z"
    },
    "papermill": {
     "duration": 0.026334,
     "end_time": "2023-01-16T18:01:23.197540",
     "exception": false,
     "start_time": "2023-01-16T18:01:23.171206",
     "status": "completed"
    },
    "tags": []
   },
   "outputs": [],
   "source": [
    "def Neighbor_by_cosine(book):\n",
    "    row_num = data[data['description_name'] == book].index.values[0] #getting the index of the article\n",
    "    similarity_score = list(enumerate(score[row_num])) #similar articles\n",
    "    sorted_score = sorted(similarity_score, key=lambda x:x[1], reverse= True)[1:6] #sorting similar articles and returning the first 5\n",
    "    \n",
    "    i = 0\n",
    "    for item in sorted_score:\n",
    "        article_title = data[data.index == item[0]][\"description_name\"].values[0] #getting the article title\n",
    "        recommendations = print(i+1, article_title) \n",
    "        i = i + 1\n",
    "    return recommendations #returns the 5 nearest article titles"
   ]
  },
  {
   "attachments": {},
   "cell_type": "markdown",
   "id": "3d8fa7e3",
   "metadata": {},
   "source": [
    "Bổ sung sau"
   ]
  },
  {
   "cell_type": "code",
   "execution_count": 53,
   "id": "7593fc46",
   "metadata": {
    "execution": {
     "iopub.execute_input": "2023-01-16T18:01:23.230508Z",
     "iopub.status.busy": "2023-01-16T18:01:23.229810Z",
     "iopub.status.idle": "2023-01-16T18:01:23.234226Z",
     "shell.execute_reply": "2023-01-16T18:01:23.233535Z"
    },
    "papermill": {
     "duration": 0.02312,
     "end_time": "2023-01-16T18:01:23.236267",
     "exception": false,
     "start_time": "2023-01-16T18:01:23.213147",
     "status": "completed"
    },
    "tags": []
   },
   "outputs": [],
   "source": [
    "book = 'Sách giáo khoa Lịch Sử lớp 7 (Tái bản 2021) Lịch Sử 7 (2021)'"
   ]
  },
  {
   "attachments": {},
   "cell_type": "markdown",
   "id": "fa0517dc",
   "metadata": {},
   "source": [
    "Bổ sung sau"
   ]
  },
  {
   "cell_type": "code",
   "execution_count": 54,
   "id": "158e40d8",
   "metadata": {
    "execution": {
     "iopub.execute_input": "2023-01-16T18:01:23.269159Z",
     "iopub.status.busy": "2023-01-16T18:01:23.268465Z",
     "iopub.status.idle": "2023-01-16T18:01:23.278286Z",
     "shell.execute_reply": "2023-01-16T18:01:23.277370Z"
    },
    "papermill": {
     "duration": 0.02923,
     "end_time": "2023-01-16T18:01:23.280993",
     "exception": false,
     "start_time": "2023-01-16T18:01:23.251763",
     "status": "completed"
    },
    "tags": []
   },
   "outputs": [
    {
     "name": "stdout",
     "output_type": "stream",
     "text": [
      "1 Sách giáo khoa Sinh Học lớp 7 (Tái bản 2021) Sinh Học 7 (2021)\n",
      "2 Sách giáo khoa Tiếng Anh lớp 10 (Tái bản 2021) Tiếng Anh 10 (2021)\n",
      "3 Sách giáo khoa Giáo Dục Công Dân lớp 7 (Tái bản 2021) Giáo Dục Công Dân 7 (2021)\n",
      "4 <p>Sách giáo khoa <strong>Tin Học lớp 10 </strong>(Tái bản 2021)</p> Tin Học 10 (2021)\n",
      "5 <p>test</p> Đắc Nhân Tâm (Tái Bản 2021)\n"
     ]
    }
   ],
   "source": [
    "Neighbor_by_cosine(book)"
   ]
  },
  {
   "cell_type": "code",
   "execution_count": null,
   "id": "12d168c0",
   "metadata": {
    "papermill": {
     "duration": 0.015251,
     "end_time": "2023-01-16T18:01:23.311914",
     "exception": false,
     "start_time": "2023-01-16T18:01:23.296663",
     "status": "completed"
    },
    "tags": []
   },
   "outputs": [],
   "source": []
  }
 ],
 "metadata": {
  "kernelspec": {
   "display_name": "Python 3",
   "language": "python",
   "name": "python3"
  },
  "language_info": {
   "codemirror_mode": {
    "name": "ipython",
    "version": 3
   },
   "file_extension": ".py",
   "mimetype": "text/x-python",
   "name": "python",
   "nbconvert_exporter": "python",
   "pygments_lexer": "ipython3",
   "version": "3.11.3"
  },
  "papermill": {
   "default_parameters": {},
   "duration": 39.317736,
   "end_time": "2023-01-16T18:01:24.149597",
   "environment_variables": {},
   "exception": null,
   "input_path": "__notebook__.ipynb",
   "output_path": "__notebook__.ipynb",
   "parameters": {},
   "start_time": "2023-01-16T18:00:44.831861",
   "version": "2.3.4"
  }
 },
 "nbformat": 4,
 "nbformat_minor": 5
}
